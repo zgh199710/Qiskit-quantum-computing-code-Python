{
  "nbformat": 4,
  "nbformat_minor": 0,
  "metadata": {
    "colab": {
      "name": "Pytorch_Learn1.ipynb",
      "provenance": [],
      "collapsed_sections": [],
      "authorship_tag": "ABX9TyMYHRl289ztQRD2B7Te13Ha",
      "include_colab_link": true
    },
    "kernelspec": {
      "name": "python3",
      "display_name": "Python 3"
    }
  },
  "cells": [
    {
      "cell_type": "markdown",
      "metadata": {
        "id": "view-in-github",
        "colab_type": "text"
      },
      "source": [
        "<a href=\"https://colab.research.google.com/github/zgh199710/Qiskit-quantum-computing-code-Python/blob/master/Pytorch_Learn1.ipynb\" target=\"_parent\"><img src=\"https://colab.research.google.com/assets/colab-badge.svg\" alt=\"Open In Colab\"/></a>"
      ]
    },
    {
      "cell_type": "code",
      "metadata": {
        "id": "F_Frd2sVin4j",
        "colab_type": "code",
        "colab": {
          "base_uri": "https://localhost:8080/",
          "height": 53
        },
        "outputId": "87b8e1e4-5386-4b4e-fb2a-46355c1d2c1e"
      },
      "source": [
        "import torch\n",
        "a = torch.FloatTensor(2,3)\n",
        "a"
      ],
      "execution_count": 1,
      "outputs": [
        {
          "output_type": "execute_result",
          "data": {
            "text/plain": [
              "tensor([[3.6478e-35, 0.0000e+00, 3.7835e-44],\n",
              "        [0.0000e+00,        nan, 0.0000e+00]])"
            ]
          },
          "metadata": {
            "tags": []
          },
          "execution_count": 1
        }
      ]
    },
    {
      "cell_type": "code",
      "metadata": {
        "id": "X5YhI3zjjJUc",
        "colab_type": "code",
        "colab": {
          "base_uri": "https://localhost:8080/",
          "height": 35
        },
        "outputId": "a6d5d23f-195b-4af5-83c0-8309163bde6c"
      },
      "source": [
        "b = torch.FloatTensor([2, 3, 4, 5])\n",
        "b"
      ],
      "execution_count": 3,
      "outputs": [
        {
          "output_type": "execute_result",
          "data": {
            "text/plain": [
              "tensor([2., 3., 4., 5.])"
            ]
          },
          "metadata": {
            "tags": []
          },
          "execution_count": 3
        }
      ]
    },
    {
      "cell_type": "code",
      "metadata": {
        "id": "TlK7TuU5kQ2M",
        "colab_type": "code",
        "colab": {
          "base_uri": "https://localhost:8080/",
          "height": 53
        },
        "outputId": "c2e2b55f-44c9-44d8-a2bf-9594d682190c"
      },
      "source": [
        "a = torch.IntTensor(2,3)\n",
        "a"
      ],
      "execution_count": 5,
      "outputs": [
        {
          "output_type": "execute_result",
          "data": {
            "text/plain": [
              "tensor([[104985536,         0,       121],\n",
              "        [       40,       105,       116]], dtype=torch.int32)"
            ]
          },
          "metadata": {
            "tags": []
          },
          "execution_count": 5
        }
      ]
    },
    {
      "cell_type": "code",
      "metadata": {
        "id": "MYZqmvjPkkYB",
        "colab_type": "code",
        "colab": {
          "base_uri": "https://localhost:8080/",
          "height": 35
        },
        "outputId": "adc23441-e7b8-411c-b2ae-8d507039ea0c"
      },
      "source": [
        "b = torch.IntTensor([2, 3, 4, 5])\n",
        "b"
      ],
      "execution_count": 7,
      "outputs": [
        {
          "output_type": "execute_result",
          "data": {
            "text/plain": [
              "tensor([2, 3, 4, 5], dtype=torch.int32)"
            ]
          },
          "metadata": {
            "tags": []
          },
          "execution_count": 7
        }
      ]
    },
    {
      "cell_type": "code",
      "metadata": {
        "id": "kbisqWlvkrjF",
        "colab_type": "code",
        "colab": {
          "base_uri": "https://localhost:8080/",
          "height": 53
        },
        "outputId": "fcf6c53c-959a-4e0a-d9f7-544514f4564e"
      },
      "source": [
        "a = torch.rand(2,3)\n",
        "a"
      ],
      "execution_count": 9,
      "outputs": [
        {
          "output_type": "execute_result",
          "data": {
            "text/plain": [
              "tensor([[0.5638, 0.9011, 0.8124],\n",
              "        [0.4141, 0.8523, 0.8514]])"
            ]
          },
          "metadata": {
            "tags": []
          },
          "execution_count": 9
        }
      ]
    },
    {
      "cell_type": "code",
      "metadata": {
        "id": "nGL8wkm4lAkm",
        "colab_type": "code",
        "colab": {
          "base_uri": "https://localhost:8080/",
          "height": 53
        },
        "outputId": "57a3c129-090b-4561-b22c-587f0203e349"
      },
      "source": [
        "a = torch.randn(2,3)\n",
        "a"
      ],
      "execution_count": 11,
      "outputs": [
        {
          "output_type": "execute_result",
          "data": {
            "text/plain": [
              "tensor([[ 1.0528,  0.7078, -0.9208],\n",
              "        [ 0.9732, -0.0780,  1.4342]])"
            ]
          },
          "metadata": {
            "tags": []
          },
          "execution_count": 11
        }
      ]
    },
    {
      "cell_type": "code",
      "metadata": {
        "id": "chRXIQdWleXc",
        "colab_type": "code",
        "colab": {
          "base_uri": "https://localhost:8080/",
          "height": 35
        },
        "outputId": "8bbfe977-b89d-4c9b-c8a4-8382d6267bca"
      },
      "source": [
        "a = torch.arange(1,9,1)\n",
        "a"
      ],
      "execution_count": 13,
      "outputs": [
        {
          "output_type": "execute_result",
          "data": {
            "text/plain": [
              "tensor([1, 2, 3, 4, 5, 6, 7, 8])"
            ]
          },
          "metadata": {
            "tags": []
          },
          "execution_count": 13
        }
      ]
    },
    {
      "cell_type": "code",
      "metadata": {
        "id": "TlFIwdl6mC-d",
        "colab_type": "code",
        "colab": {
          "base_uri": "https://localhost:8080/",
          "height": 53
        },
        "outputId": "798b4e43-2787-4bc0-863b-839ac57cde8d"
      },
      "source": [
        "a = torch.randn(2,3)\n",
        "a"
      ],
      "execution_count": 14,
      "outputs": [
        {
          "output_type": "execute_result",
          "data": {
            "text/plain": [
              "tensor([[-0.5733, -0.2083, -0.0487],\n",
              "        [ 2.5564,  0.4063,  0.5689]])"
            ]
          },
          "metadata": {
            "tags": []
          },
          "execution_count": 14
        }
      ]
    },
    {
      "cell_type": "code",
      "metadata": {
        "id": "JMwMbIEem5A0",
        "colab_type": "code",
        "colab": {
          "base_uri": "https://localhost:8080/",
          "height": 53
        },
        "outputId": "0f57e22d-3798-4125-cc6b-47c709b10e54"
      },
      "source": [
        "b = torch.abs(a)\n",
        "b"
      ],
      "execution_count": 15,
      "outputs": [
        {
          "output_type": "execute_result",
          "data": {
            "text/plain": [
              "tensor([[0.5733, 0.2083, 0.0487],\n",
              "        [2.5564, 0.4063, 0.5689]])"
            ]
          },
          "metadata": {
            "tags": []
          },
          "execution_count": 15
        }
      ]
    },
    {
      "cell_type": "code",
      "metadata": {
        "id": "QqH2YTJynAJs",
        "colab_type": "code",
        "colab": {
          "base_uri": "https://localhost:8080/",
          "height": 53
        },
        "outputId": "962c7706-02b8-47f5-c1ef-d9a87e5c1f35"
      },
      "source": [
        "c = torch.clamp(b, 0.5, 1)\n",
        "c"
      ],
      "execution_count": 16,
      "outputs": [
        {
          "output_type": "execute_result",
          "data": {
            "text/plain": [
              "tensor([[0.5733, 0.5000, 0.5000],\n",
              "        [1.0000, 0.5000, 0.5689]])"
            ]
          },
          "metadata": {
            "tags": []
          },
          "execution_count": 16
        }
      ]
    },
    {
      "cell_type": "code",
      "metadata": {
        "id": "DpJd5xYYoG5d",
        "colab_type": "code",
        "colab": {
          "base_uri": "https://localhost:8080/",
          "height": 53
        },
        "outputId": "59d0f407-8c48-427b-db9a-184e220437df"
      },
      "source": [
        "d = torch.div(c, 10)\n",
        "d"
      ],
      "execution_count": 17,
      "outputs": [
        {
          "output_type": "execute_result",
          "data": {
            "text/plain": [
              "tensor([[0.0573, 0.0500, 0.0500],\n",
              "        [0.1000, 0.0500, 0.0569]])"
            ]
          },
          "metadata": {
            "tags": []
          },
          "execution_count": 17
        }
      ]
    },
    {
      "cell_type": "code",
      "metadata": {
        "id": "tc2pAHSgokAT",
        "colab_type": "code",
        "colab": {
          "base_uri": "https://localhost:8080/",
          "height": 53
        },
        "outputId": "a9975e30-ea6b-43fa-a1e5-23aa396f8f5d"
      },
      "source": [
        "e = torch.mul(d, 100)\n",
        "e"
      ],
      "execution_count": 19,
      "outputs": [
        {
          "output_type": "execute_result",
          "data": {
            "text/plain": [
              "tensor([[ 5.7328,  5.0000,  5.0000],\n",
              "        [10.0000,  5.0000,  5.6887]])"
            ]
          },
          "metadata": {
            "tags": []
          },
          "execution_count": 19
        }
      ]
    },
    {
      "cell_type": "code",
      "metadata": {
        "id": "QIintIMWov-U",
        "colab_type": "code",
        "colab": {
          "base_uri": "https://localhost:8080/",
          "height": 53
        },
        "outputId": "1f9eafe2-ba9b-4bb2-8ac1-8f95430a66d8"
      },
      "source": [
        "f = torch.pow(e, 2)\n",
        "f"
      ],
      "execution_count": 20,
      "outputs": [
        {
          "output_type": "execute_result",
          "data": {
            "text/plain": [
              "tensor([[ 32.8656,  25.0000,  25.0000],\n",
              "        [100.0000,  25.0000,  32.3615]])"
            ]
          },
          "metadata": {
            "tags": []
          },
          "execution_count": 20
        }
      ]
    },
    {
      "cell_type": "code",
      "metadata": {
        "id": "BURVGALCpEHb",
        "colab_type": "code",
        "colab": {
          "base_uri": "https://localhost:8080/",
          "height": 89
        },
        "outputId": "b2854bf7-a042-4f13-d6d5-3fcf9dfc8734"
      },
      "source": [
        "a = torch.randn(2,3)\n",
        "print(a)\n",
        "b = torch.randn(3)\n",
        "print(b)\n",
        "c = torch.mv(a, b)\n",
        "print(c)"
      ],
      "execution_count": 21,
      "outputs": [
        {
          "output_type": "stream",
          "text": [
            "tensor([[ 1.4233,  0.3759,  1.0264],\n",
            "        [ 0.1253, -1.4054,  0.2394]])\n",
            "tensor([ 1.2093,  1.6654, -0.3622])\n",
            "tensor([ 1.9754, -2.2757])\n"
          ],
          "name": "stdout"
        }
      ]
    },
    {
      "cell_type": "code",
      "metadata": {
        "id": "GG61BB8op5Bb",
        "colab_type": "code",
        "colab": {
          "base_uri": "https://localhost:8080/",
          "height": 1000
        },
        "outputId": "69379592-41fc-499a-c7d2-774a3b823928"
      },
      "source": [
        "# coding:utf-8\n",
        "import torch\n",
        " \n",
        "batch_n = 100\n",
        "hidden_layer = 100\n",
        "input_data = 1000\n",
        "output_data = 10\n",
        " \n",
        "x = torch.randn(batch_n, input_data)\n",
        "y = torch.randn(batch_n, output_data)\n",
        " \n",
        "w1 = torch.randn(input_data, hidden_layer)\n",
        "w2 = torch.randn(hidden_layer, output_data)\n",
        " \n",
        "epoch_n = 1000\n",
        "learning_rate = 1e-5\n",
        " \n",
        "for epoch in range(epoch_n):\n",
        "    h1 = x.mm(w1)  # 100*1000\n",
        "    h1 = h1.clamp(min=0)\n",
        "    y_pred = h1.mm(w2)  # 100*10\n",
        "    # print(y_pred)\n",
        " \n",
        "    loss = (y_pred - y).pow(2).sum()\n",
        "    print(\"Epoch:{} , Loss:{:.4f}\".format(epoch, loss))\n",
        " \n",
        "    gray_y_pred = 2 * (y_pred - y)\n",
        "    gray_w2 = h1.t().mm(gray_y_pred)\n",
        " \n",
        "    grad_h = gray_y_pred.clone()\n",
        "    grad_h = grad_h.mm(w2.t())\n",
        "    grad_h.clamp_(min=0)\n",
        "    grad_w1 = x.t().mm(grad_h)\n",
        " \n",
        "    w1 -= learning_rate * grad_w1\n",
        "    w2 -= learning_rate * gray_w2"
      ],
      "execution_count": 4,
      "outputs": [
        {
          "output_type": "stream",
          "text": [
            "Epoch:0 , Loss:38250688.0000\n",
            "Epoch:1 , Loss:2906272256.0000\n",
            "Epoch:2 , Loss:1012.6666\n",
            "Epoch:3 , Loss:1012.6666\n",
            "Epoch:4 , Loss:1012.6666\n",
            "Epoch:5 , Loss:1012.6666\n",
            "Epoch:6 , Loss:1012.6666\n",
            "Epoch:7 , Loss:1012.6666\n",
            "Epoch:8 , Loss:1012.6666\n",
            "Epoch:9 , Loss:1012.6666\n",
            "Epoch:10 , Loss:1012.6666\n",
            "Epoch:11 , Loss:1012.6666\n",
            "Epoch:12 , Loss:1012.6666\n",
            "Epoch:13 , Loss:1012.6666\n",
            "Epoch:14 , Loss:1012.6666\n",
            "Epoch:15 , Loss:1012.6666\n",
            "Epoch:16 , Loss:1012.6666\n",
            "Epoch:17 , Loss:1012.6666\n",
            "Epoch:18 , Loss:1012.6666\n",
            "Epoch:19 , Loss:1012.6666\n",
            "Epoch:20 , Loss:1012.6666\n",
            "Epoch:21 , Loss:1012.6666\n",
            "Epoch:22 , Loss:1012.6666\n",
            "Epoch:23 , Loss:1012.6666\n",
            "Epoch:24 , Loss:1012.6666\n",
            "Epoch:25 , Loss:1012.6666\n",
            "Epoch:26 , Loss:1012.6666\n",
            "Epoch:27 , Loss:1012.6666\n",
            "Epoch:28 , Loss:1012.6666\n",
            "Epoch:29 , Loss:1012.6666\n",
            "Epoch:30 , Loss:1012.6666\n",
            "Epoch:31 , Loss:1012.6666\n",
            "Epoch:32 , Loss:1012.6666\n",
            "Epoch:33 , Loss:1012.6666\n",
            "Epoch:34 , Loss:1012.6666\n",
            "Epoch:35 , Loss:1012.6666\n",
            "Epoch:36 , Loss:1012.6666\n",
            "Epoch:37 , Loss:1012.6666\n",
            "Epoch:38 , Loss:1012.6666\n",
            "Epoch:39 , Loss:1012.6666\n",
            "Epoch:40 , Loss:1012.6666\n",
            "Epoch:41 , Loss:1012.6666\n",
            "Epoch:42 , Loss:1012.6666\n",
            "Epoch:43 , Loss:1012.6666\n",
            "Epoch:44 , Loss:1012.6666\n",
            "Epoch:45 , Loss:1012.6666\n",
            "Epoch:46 , Loss:1012.6666\n",
            "Epoch:47 , Loss:1012.6666\n",
            "Epoch:48 , Loss:1012.6666\n",
            "Epoch:49 , Loss:1012.6666\n",
            "Epoch:50 , Loss:1012.6666\n",
            "Epoch:51 , Loss:1012.6666\n",
            "Epoch:52 , Loss:1012.6666\n",
            "Epoch:53 , Loss:1012.6666\n",
            "Epoch:54 , Loss:1012.6666\n",
            "Epoch:55 , Loss:1012.6666\n",
            "Epoch:56 , Loss:1012.6666\n",
            "Epoch:57 , Loss:1012.6666\n",
            "Epoch:58 , Loss:1012.6666\n",
            "Epoch:59 , Loss:1012.6666\n",
            "Epoch:60 , Loss:1012.6666\n",
            "Epoch:61 , Loss:1012.6666\n",
            "Epoch:62 , Loss:1012.6666\n",
            "Epoch:63 , Loss:1012.6666\n",
            "Epoch:64 , Loss:1012.6666\n",
            "Epoch:65 , Loss:1012.6666\n",
            "Epoch:66 , Loss:1012.6666\n",
            "Epoch:67 , Loss:1012.6666\n",
            "Epoch:68 , Loss:1012.6666\n",
            "Epoch:69 , Loss:1012.6666\n",
            "Epoch:70 , Loss:1012.6666\n",
            "Epoch:71 , Loss:1012.6666\n",
            "Epoch:72 , Loss:1012.6666\n",
            "Epoch:73 , Loss:1012.6666\n",
            "Epoch:74 , Loss:1012.6666\n",
            "Epoch:75 , Loss:1012.6666\n",
            "Epoch:76 , Loss:1012.6666\n",
            "Epoch:77 , Loss:1012.6666\n",
            "Epoch:78 , Loss:1012.6666\n",
            "Epoch:79 , Loss:1012.6666\n",
            "Epoch:80 , Loss:1012.6666\n",
            "Epoch:81 , Loss:1012.6666\n",
            "Epoch:82 , Loss:1012.6666\n",
            "Epoch:83 , Loss:1012.6666\n",
            "Epoch:84 , Loss:1012.6666\n",
            "Epoch:85 , Loss:1012.6666\n",
            "Epoch:86 , Loss:1012.6666\n",
            "Epoch:87 , Loss:1012.6666\n",
            "Epoch:88 , Loss:1012.6666\n",
            "Epoch:89 , Loss:1012.6666\n",
            "Epoch:90 , Loss:1012.6666\n",
            "Epoch:91 , Loss:1012.6666\n",
            "Epoch:92 , Loss:1012.6666\n",
            "Epoch:93 , Loss:1012.6666\n",
            "Epoch:94 , Loss:1012.6666\n",
            "Epoch:95 , Loss:1012.6666\n",
            "Epoch:96 , Loss:1012.6666\n",
            "Epoch:97 , Loss:1012.6666\n",
            "Epoch:98 , Loss:1012.6666\n",
            "Epoch:99 , Loss:1012.6666\n",
            "Epoch:100 , Loss:1012.6666\n",
            "Epoch:101 , Loss:1012.6666\n",
            "Epoch:102 , Loss:1012.6666\n",
            "Epoch:103 , Loss:1012.6666\n",
            "Epoch:104 , Loss:1012.6666\n",
            "Epoch:105 , Loss:1012.6666\n",
            "Epoch:106 , Loss:1012.6666\n",
            "Epoch:107 , Loss:1012.6666\n",
            "Epoch:108 , Loss:1012.6666\n",
            "Epoch:109 , Loss:1012.6666\n",
            "Epoch:110 , Loss:1012.6666\n",
            "Epoch:111 , Loss:1012.6666\n",
            "Epoch:112 , Loss:1012.6666\n",
            "Epoch:113 , Loss:1012.6666\n",
            "Epoch:114 , Loss:1012.6666\n",
            "Epoch:115 , Loss:1012.6666\n",
            "Epoch:116 , Loss:1012.6666\n",
            "Epoch:117 , Loss:1012.6666\n",
            "Epoch:118 , Loss:1012.6666\n",
            "Epoch:119 , Loss:1012.6666\n",
            "Epoch:120 , Loss:1012.6666\n",
            "Epoch:121 , Loss:1012.6666\n",
            "Epoch:122 , Loss:1012.6666\n",
            "Epoch:123 , Loss:1012.6666\n",
            "Epoch:124 , Loss:1012.6666\n",
            "Epoch:125 , Loss:1012.6666\n",
            "Epoch:126 , Loss:1012.6666\n",
            "Epoch:127 , Loss:1012.6666\n",
            "Epoch:128 , Loss:1012.6666\n",
            "Epoch:129 , Loss:1012.6666\n",
            "Epoch:130 , Loss:1012.6666\n",
            "Epoch:131 , Loss:1012.6666\n",
            "Epoch:132 , Loss:1012.6666\n",
            "Epoch:133 , Loss:1012.6666\n",
            "Epoch:134 , Loss:1012.6666\n",
            "Epoch:135 , Loss:1012.6666\n",
            "Epoch:136 , Loss:1012.6666\n",
            "Epoch:137 , Loss:1012.6666\n",
            "Epoch:138 , Loss:1012.6666\n",
            "Epoch:139 , Loss:1012.6666\n",
            "Epoch:140 , Loss:1012.6666\n",
            "Epoch:141 , Loss:1012.6666\n",
            "Epoch:142 , Loss:1012.6666\n",
            "Epoch:143 , Loss:1012.6666\n",
            "Epoch:144 , Loss:1012.6666\n",
            "Epoch:145 , Loss:1012.6666\n",
            "Epoch:146 , Loss:1012.6666\n",
            "Epoch:147 , Loss:1012.6666\n",
            "Epoch:148 , Loss:1012.6666\n",
            "Epoch:149 , Loss:1012.6666\n",
            "Epoch:150 , Loss:1012.6666\n",
            "Epoch:151 , Loss:1012.6666\n",
            "Epoch:152 , Loss:1012.6666\n",
            "Epoch:153 , Loss:1012.6666\n",
            "Epoch:154 , Loss:1012.6666\n",
            "Epoch:155 , Loss:1012.6666\n",
            "Epoch:156 , Loss:1012.6666\n",
            "Epoch:157 , Loss:1012.6666\n",
            "Epoch:158 , Loss:1012.6666\n",
            "Epoch:159 , Loss:1012.6666\n",
            "Epoch:160 , Loss:1012.6666\n",
            "Epoch:161 , Loss:1012.6666\n",
            "Epoch:162 , Loss:1012.6666\n",
            "Epoch:163 , Loss:1012.6666\n",
            "Epoch:164 , Loss:1012.6666\n",
            "Epoch:165 , Loss:1012.6666\n",
            "Epoch:166 , Loss:1012.6666\n",
            "Epoch:167 , Loss:1012.6666\n",
            "Epoch:168 , Loss:1012.6666\n",
            "Epoch:169 , Loss:1012.6666\n",
            "Epoch:170 , Loss:1075.9900\n",
            "Epoch:171 , Loss:1012.6666\n",
            "Epoch:172 , Loss:1012.6666\n",
            "Epoch:173 , Loss:1012.6666\n",
            "Epoch:174 , Loss:1012.6666\n",
            "Epoch:175 , Loss:1012.6666\n",
            "Epoch:176 , Loss:1012.6666\n",
            "Epoch:177 , Loss:1012.6666\n",
            "Epoch:178 , Loss:1012.6666\n",
            "Epoch:179 , Loss:1012.6666\n",
            "Epoch:180 , Loss:1012.6666\n",
            "Epoch:181 , Loss:1012.6666\n",
            "Epoch:182 , Loss:1012.6666\n",
            "Epoch:183 , Loss:1012.6666\n",
            "Epoch:184 , Loss:1012.6666\n",
            "Epoch:185 , Loss:1012.6666\n",
            "Epoch:186 , Loss:1012.6666\n",
            "Epoch:187 , Loss:1012.6666\n",
            "Epoch:188 , Loss:1012.6666\n",
            "Epoch:189 , Loss:1012.6666\n",
            "Epoch:190 , Loss:1012.8344\n",
            "Epoch:191 , Loss:1168.2231\n",
            "Epoch:192 , Loss:1012.6666\n",
            "Epoch:193 , Loss:1012.6666\n",
            "Epoch:194 , Loss:1012.6666\n",
            "Epoch:195 , Loss:1012.6666\n",
            "Epoch:196 , Loss:1012.6666\n",
            "Epoch:197 , Loss:1012.6666\n",
            "Epoch:198 , Loss:1012.6666\n",
            "Epoch:199 , Loss:1012.6666\n",
            "Epoch:200 , Loss:1012.6666\n",
            "Epoch:201 , Loss:1012.6666\n",
            "Epoch:202 , Loss:1012.6666\n",
            "Epoch:203 , Loss:1012.6666\n",
            "Epoch:204 , Loss:1012.6666\n",
            "Epoch:205 , Loss:1012.6666\n",
            "Epoch:206 , Loss:1012.6666\n",
            "Epoch:207 , Loss:1012.6666\n",
            "Epoch:208 , Loss:1012.6666\n",
            "Epoch:209 , Loss:1012.6666\n",
            "Epoch:210 , Loss:1012.6666\n",
            "Epoch:211 , Loss:1012.6666\n",
            "Epoch:212 , Loss:1012.6666\n",
            "Epoch:213 , Loss:1012.6666\n",
            "Epoch:214 , Loss:1012.6666\n",
            "Epoch:215 , Loss:1012.6666\n",
            "Epoch:216 , Loss:1012.6666\n",
            "Epoch:217 , Loss:1012.6666\n",
            "Epoch:218 , Loss:1012.6666\n",
            "Epoch:219 , Loss:1012.6666\n",
            "Epoch:220 , Loss:1012.6666\n",
            "Epoch:221 , Loss:1012.6666\n",
            "Epoch:222 , Loss:1012.6666\n",
            "Epoch:223 , Loss:1171.2886\n",
            "Epoch:224 , Loss:1012.6666\n",
            "Epoch:225 , Loss:1012.6666\n",
            "Epoch:226 , Loss:1012.6666\n",
            "Epoch:227 , Loss:1012.6666\n",
            "Epoch:228 , Loss:1012.6666\n",
            "Epoch:229 , Loss:1012.6666\n",
            "Epoch:230 , Loss:1012.6666\n",
            "Epoch:231 , Loss:1012.6666\n",
            "Epoch:232 , Loss:6709.1133\n",
            "Epoch:233 , Loss:1012.6666\n",
            "Epoch:234 , Loss:1012.6666\n",
            "Epoch:235 , Loss:1012.6666\n",
            "Epoch:236 , Loss:1012.6666\n",
            "Epoch:237 , Loss:1012.6666\n",
            "Epoch:238 , Loss:1012.6666\n",
            "Epoch:239 , Loss:1012.6666\n",
            "Epoch:240 , Loss:1012.6666\n",
            "Epoch:241 , Loss:1012.6666\n",
            "Epoch:242 , Loss:1012.6666\n",
            "Epoch:243 , Loss:1012.6666\n",
            "Epoch:244 , Loss:1012.6666\n",
            "Epoch:245 , Loss:2824.6333\n",
            "Epoch:246 , Loss:1012.6666\n",
            "Epoch:247 , Loss:1012.6666\n",
            "Epoch:248 , Loss:1012.6666\n",
            "Epoch:249 , Loss:1012.6666\n",
            "Epoch:250 , Loss:1012.6666\n",
            "Epoch:251 , Loss:1012.6666\n",
            "Epoch:252 , Loss:1012.6666\n",
            "Epoch:253 , Loss:1012.6666\n",
            "Epoch:254 , Loss:1012.6666\n",
            "Epoch:255 , Loss:1012.6666\n",
            "Epoch:256 , Loss:1012.6666\n",
            "Epoch:257 , Loss:1012.6666\n",
            "Epoch:258 , Loss:2471.3367\n",
            "Epoch:259 , Loss:4964.4873\n",
            "Epoch:260 , Loss:1012.6666\n",
            "Epoch:261 , Loss:1012.6666\n",
            "Epoch:262 , Loss:1012.6666\n",
            "Epoch:263 , Loss:1012.6666\n",
            "Epoch:264 , Loss:1012.6666\n",
            "Epoch:265 , Loss:1012.6666\n",
            "Epoch:266 , Loss:1012.6666\n",
            "Epoch:267 , Loss:1012.6666\n",
            "Epoch:268 , Loss:1012.6666\n",
            "Epoch:269 , Loss:1012.6666\n",
            "Epoch:270 , Loss:1012.6666\n",
            "Epoch:271 , Loss:1012.6666\n",
            "Epoch:272 , Loss:1012.6666\n",
            "Epoch:273 , Loss:1012.6666\n",
            "Epoch:274 , Loss:1012.6666\n",
            "Epoch:275 , Loss:1012.6666\n",
            "Epoch:276 , Loss:1012.6666\n",
            "Epoch:277 , Loss:1012.6666\n",
            "Epoch:278 , Loss:1012.6666\n",
            "Epoch:279 , Loss:1012.6666\n",
            "Epoch:280 , Loss:1012.6666\n",
            "Epoch:281 , Loss:1012.6666\n",
            "Epoch:282 , Loss:1012.6666\n",
            "Epoch:283 , Loss:1012.6666\n",
            "Epoch:284 , Loss:1012.6666\n",
            "Epoch:285 , Loss:1012.6666\n",
            "Epoch:286 , Loss:1012.6666\n",
            "Epoch:287 , Loss:1012.6666\n",
            "Epoch:288 , Loss:1012.6666\n",
            "Epoch:289 , Loss:1981.5425\n",
            "Epoch:290 , Loss:1012.6666\n",
            "Epoch:291 , Loss:1012.6666\n",
            "Epoch:292 , Loss:1012.6666\n",
            "Epoch:293 , Loss:1012.6666\n",
            "Epoch:294 , Loss:1012.6666\n",
            "Epoch:295 , Loss:1012.6666\n",
            "Epoch:296 , Loss:1012.6666\n",
            "Epoch:297 , Loss:1012.6666\n",
            "Epoch:298 , Loss:1012.6666\n",
            "Epoch:299 , Loss:1012.6666\n",
            "Epoch:300 , Loss:1012.6666\n",
            "Epoch:301 , Loss:1012.6666\n",
            "Epoch:302 , Loss:1012.6666\n",
            "Epoch:303 , Loss:1012.6666\n",
            "Epoch:304 , Loss:1012.6666\n",
            "Epoch:305 , Loss:1012.6666\n",
            "Epoch:306 , Loss:1012.6666\n",
            "Epoch:307 , Loss:1012.6666\n",
            "Epoch:308 , Loss:1012.6666\n",
            "Epoch:309 , Loss:1012.6666\n",
            "Epoch:310 , Loss:1012.6666\n",
            "Epoch:311 , Loss:1012.6666\n",
            "Epoch:312 , Loss:1012.6666\n",
            "Epoch:313 , Loss:1012.6666\n",
            "Epoch:314 , Loss:1012.6666\n",
            "Epoch:315 , Loss:1012.6666\n",
            "Epoch:316 , Loss:1012.6666\n",
            "Epoch:317 , Loss:1012.6666\n",
            "Epoch:318 , Loss:1012.6666\n",
            "Epoch:319 , Loss:1012.6666\n",
            "Epoch:320 , Loss:1012.6666\n",
            "Epoch:321 , Loss:1012.6666\n",
            "Epoch:322 , Loss:1012.6666\n",
            "Epoch:323 , Loss:1012.6666\n",
            "Epoch:324 , Loss:1012.6666\n",
            "Epoch:325 , Loss:1012.6666\n",
            "Epoch:326 , Loss:1012.6666\n",
            "Epoch:327 , Loss:1012.6666\n",
            "Epoch:328 , Loss:10884.3545\n",
            "Epoch:329 , Loss:1012.6666\n",
            "Epoch:330 , Loss:1012.6666\n",
            "Epoch:331 , Loss:1012.6666\n",
            "Epoch:332 , Loss:1012.6666\n",
            "Epoch:333 , Loss:1012.6666\n",
            "Epoch:334 , Loss:1012.6666\n",
            "Epoch:335 , Loss:1012.6666\n",
            "Epoch:336 , Loss:1012.6666\n",
            "Epoch:337 , Loss:1012.6666\n",
            "Epoch:338 , Loss:1012.6666\n",
            "Epoch:339 , Loss:1012.6666\n",
            "Epoch:340 , Loss:1012.6666\n",
            "Epoch:341 , Loss:1012.6666\n",
            "Epoch:342 , Loss:1012.6666\n",
            "Epoch:343 , Loss:1012.6666\n",
            "Epoch:344 , Loss:1012.6666\n",
            "Epoch:345 , Loss:1012.6666\n",
            "Epoch:346 , Loss:1012.6666\n",
            "Epoch:347 , Loss:1012.6666\n",
            "Epoch:348 , Loss:1012.6666\n",
            "Epoch:349 , Loss:1012.6666\n",
            "Epoch:350 , Loss:1012.6666\n",
            "Epoch:351 , Loss:1012.6666\n",
            "Epoch:352 , Loss:1012.6666\n",
            "Epoch:353 , Loss:1012.6666\n",
            "Epoch:354 , Loss:2101.0088\n",
            "Epoch:355 , Loss:1012.6666\n",
            "Epoch:356 , Loss:1012.6666\n",
            "Epoch:357 , Loss:1012.6666\n",
            "Epoch:358 , Loss:1012.6666\n",
            "Epoch:359 , Loss:1012.6666\n",
            "Epoch:360 , Loss:1012.6666\n",
            "Epoch:361 , Loss:4380.2554\n",
            "Epoch:362 , Loss:1012.6666\n",
            "Epoch:363 , Loss:1012.6666\n",
            "Epoch:364 , Loss:1012.6666\n",
            "Epoch:365 , Loss:1012.6666\n",
            "Epoch:366 , Loss:1012.6666\n",
            "Epoch:367 , Loss:1012.6666\n",
            "Epoch:368 , Loss:1012.6666\n",
            "Epoch:369 , Loss:1012.6666\n",
            "Epoch:370 , Loss:1012.6666\n",
            "Epoch:371 , Loss:1012.6666\n",
            "Epoch:372 , Loss:1012.6666\n",
            "Epoch:373 , Loss:1012.6666\n",
            "Epoch:374 , Loss:1012.6666\n",
            "Epoch:375 , Loss:1012.6666\n",
            "Epoch:376 , Loss:1012.6666\n",
            "Epoch:377 , Loss:1012.6666\n",
            "Epoch:378 , Loss:1012.6666\n",
            "Epoch:379 , Loss:1012.6666\n",
            "Epoch:380 , Loss:1012.6666\n",
            "Epoch:381 , Loss:1012.6666\n",
            "Epoch:382 , Loss:1012.6666\n",
            "Epoch:383 , Loss:1012.6666\n",
            "Epoch:384 , Loss:1012.6666\n",
            "Epoch:385 , Loss:1012.6666\n",
            "Epoch:386 , Loss:1012.6666\n",
            "Epoch:387 , Loss:1012.6666\n",
            "Epoch:388 , Loss:1012.6666\n",
            "Epoch:389 , Loss:1012.6666\n",
            "Epoch:390 , Loss:1012.6666\n",
            "Epoch:391 , Loss:1012.6666\n",
            "Epoch:392 , Loss:1012.6666\n",
            "Epoch:393 , Loss:1012.6666\n",
            "Epoch:394 , Loss:1012.6666\n",
            "Epoch:395 , Loss:1012.6666\n",
            "Epoch:396 , Loss:1012.6666\n",
            "Epoch:397 , Loss:1012.6666\n",
            "Epoch:398 , Loss:7896.3906\n",
            "Epoch:399 , Loss:1012.6666\n",
            "Epoch:400 , Loss:1012.6666\n",
            "Epoch:401 , Loss:1012.6666\n",
            "Epoch:402 , Loss:1012.6666\n",
            "Epoch:403 , Loss:1012.6666\n",
            "Epoch:404 , Loss:1012.6666\n",
            "Epoch:405 , Loss:1012.6666\n",
            "Epoch:406 , Loss:1012.6666\n",
            "Epoch:407 , Loss:1012.6666\n",
            "Epoch:408 , Loss:1012.6666\n",
            "Epoch:409 , Loss:1012.6666\n",
            "Epoch:410 , Loss:1012.6666\n",
            "Epoch:411 , Loss:1012.6666\n",
            "Epoch:412 , Loss:1012.6666\n",
            "Epoch:413 , Loss:1012.6666\n",
            "Epoch:414 , Loss:1012.6666\n",
            "Epoch:415 , Loss:1012.6666\n",
            "Epoch:416 , Loss:1012.6666\n",
            "Epoch:417 , Loss:1012.6666\n",
            "Epoch:418 , Loss:1012.6666\n",
            "Epoch:419 , Loss:1587.9360\n",
            "Epoch:420 , Loss:1012.6666\n",
            "Epoch:421 , Loss:1012.6666\n",
            "Epoch:422 , Loss:1012.6666\n",
            "Epoch:423 , Loss:1012.6666\n",
            "Epoch:424 , Loss:1012.6666\n",
            "Epoch:425 , Loss:1012.6666\n",
            "Epoch:426 , Loss:1012.6666\n",
            "Epoch:427 , Loss:1012.6666\n",
            "Epoch:428 , Loss:1640.6702\n",
            "Epoch:429 , Loss:1012.6666\n",
            "Epoch:430 , Loss:1012.6666\n",
            "Epoch:431 , Loss:1012.6666\n",
            "Epoch:432 , Loss:1012.6666\n",
            "Epoch:433 , Loss:1012.6666\n",
            "Epoch:434 , Loss:1012.6666\n",
            "Epoch:435 , Loss:1012.6666\n",
            "Epoch:436 , Loss:1012.6666\n",
            "Epoch:437 , Loss:1012.6666\n",
            "Epoch:438 , Loss:1012.6666\n",
            "Epoch:439 , Loss:1012.6666\n",
            "Epoch:440 , Loss:1012.6666\n",
            "Epoch:441 , Loss:1012.6666\n",
            "Epoch:442 , Loss:1012.6666\n",
            "Epoch:443 , Loss:1012.6666\n",
            "Epoch:444 , Loss:1012.6666\n",
            "Epoch:445 , Loss:1012.6666\n",
            "Epoch:446 , Loss:1012.6666\n",
            "Epoch:447 , Loss:1012.6666\n",
            "Epoch:448 , Loss:1012.6666\n",
            "Epoch:449 , Loss:1012.6666\n",
            "Epoch:450 , Loss:1012.6666\n",
            "Epoch:451 , Loss:1012.6666\n",
            "Epoch:452 , Loss:1012.6666\n",
            "Epoch:453 , Loss:1012.6666\n",
            "Epoch:454 , Loss:7684.2759\n",
            "Epoch:455 , Loss:1012.6666\n",
            "Epoch:456 , Loss:1012.6666\n",
            "Epoch:457 , Loss:1012.6666\n",
            "Epoch:458 , Loss:1012.6666\n",
            "Epoch:459 , Loss:1012.6666\n",
            "Epoch:460 , Loss:1808.7549\n",
            "Epoch:461 , Loss:1012.6666\n",
            "Epoch:462 , Loss:1012.6666\n",
            "Epoch:463 , Loss:1012.6666\n",
            "Epoch:464 , Loss:1012.6666\n",
            "Epoch:465 , Loss:1012.6666\n",
            "Epoch:466 , Loss:1012.6666\n",
            "Epoch:467 , Loss:1210.6663\n",
            "Epoch:468 , Loss:1012.6666\n",
            "Epoch:469 , Loss:1012.6666\n",
            "Epoch:470 , Loss:1012.6666\n",
            "Epoch:471 , Loss:1012.6666\n",
            "Epoch:472 , Loss:1012.6666\n",
            "Epoch:473 , Loss:1012.6666\n",
            "Epoch:474 , Loss:1012.6666\n",
            "Epoch:475 , Loss:1012.6666\n",
            "Epoch:476 , Loss:1012.6666\n",
            "Epoch:477 , Loss:1039.0354\n",
            "Epoch:478 , Loss:1012.6666\n",
            "Epoch:479 , Loss:1012.6666\n",
            "Epoch:480 , Loss:3019.3726\n",
            "Epoch:481 , Loss:1012.6666\n",
            "Epoch:482 , Loss:1012.6666\n",
            "Epoch:483 , Loss:1012.6666\n",
            "Epoch:484 , Loss:1012.6666\n",
            "Epoch:485 , Loss:1012.6666\n",
            "Epoch:486 , Loss:1012.6666\n",
            "Epoch:487 , Loss:1012.6666\n",
            "Epoch:488 , Loss:1240.1296\n",
            "Epoch:489 , Loss:1012.6666\n",
            "Epoch:490 , Loss:1012.6666\n",
            "Epoch:491 , Loss:1012.6666\n",
            "Epoch:492 , Loss:1012.6666\n",
            "Epoch:493 , Loss:1012.6666\n",
            "Epoch:494 , Loss:1012.6666\n",
            "Epoch:495 , Loss:1012.6666\n",
            "Epoch:496 , Loss:1012.6666\n",
            "Epoch:497 , Loss:1012.6666\n",
            "Epoch:498 , Loss:1012.6666\n",
            "Epoch:499 , Loss:1012.6666\n",
            "Epoch:500 , Loss:2189.4434\n",
            "Epoch:501 , Loss:1012.6666\n",
            "Epoch:502 , Loss:1012.6666\n",
            "Epoch:503 , Loss:1012.6666\n",
            "Epoch:504 , Loss:1012.6666\n",
            "Epoch:505 , Loss:1012.6666\n",
            "Epoch:506 , Loss:1012.6666\n",
            "Epoch:507 , Loss:1012.6666\n",
            "Epoch:508 , Loss:1012.6666\n",
            "Epoch:509 , Loss:1012.6666\n",
            "Epoch:510 , Loss:1012.6666\n",
            "Epoch:511 , Loss:1012.6666\n",
            "Epoch:512 , Loss:1012.6666\n",
            "Epoch:513 , Loss:1012.6666\n",
            "Epoch:514 , Loss:1012.6666\n",
            "Epoch:515 , Loss:1012.6666\n",
            "Epoch:516 , Loss:1012.6666\n",
            "Epoch:517 , Loss:1012.6666\n",
            "Epoch:518 , Loss:1012.6666\n",
            "Epoch:519 , Loss:1012.6666\n",
            "Epoch:520 , Loss:1012.6666\n",
            "Epoch:521 , Loss:1012.6666\n",
            "Epoch:522 , Loss:1012.6666\n",
            "Epoch:523 , Loss:1167.1816\n",
            "Epoch:524 , Loss:1012.6666\n",
            "Epoch:525 , Loss:3124.2986\n",
            "Epoch:526 , Loss:1012.6666\n",
            "Epoch:527 , Loss:1012.6666\n",
            "Epoch:528 , Loss:1012.6666\n",
            "Epoch:529 , Loss:1012.6666\n",
            "Epoch:530 , Loss:1012.6666\n",
            "Epoch:531 , Loss:1012.6666\n",
            "Epoch:532 , Loss:1012.6666\n",
            "Epoch:533 , Loss:1012.6666\n",
            "Epoch:534 , Loss:1012.6666\n",
            "Epoch:535 , Loss:1012.6666\n",
            "Epoch:536 , Loss:1012.6666\n",
            "Epoch:537 , Loss:1012.6666\n",
            "Epoch:538 , Loss:1012.6666\n",
            "Epoch:539 , Loss:1012.6666\n",
            "Epoch:540 , Loss:1012.6666\n",
            "Epoch:541 , Loss:1012.6666\n",
            "Epoch:542 , Loss:1061.0547\n",
            "Epoch:543 , Loss:1012.6666\n",
            "Epoch:544 , Loss:1012.6666\n",
            "Epoch:545 , Loss:1012.6666\n",
            "Epoch:546 , Loss:26808.8516\n",
            "Epoch:547 , Loss:1012.6666\n",
            "Epoch:548 , Loss:1012.6666\n",
            "Epoch:549 , Loss:1012.6666\n",
            "Epoch:550 , Loss:1012.6666\n",
            "Epoch:551 , Loss:1012.6666\n",
            "Epoch:552 , Loss:1012.6666\n",
            "Epoch:553 , Loss:1012.6666\n",
            "Epoch:554 , Loss:1012.6666\n",
            "Epoch:555 , Loss:1012.6666\n",
            "Epoch:556 , Loss:1012.6666\n",
            "Epoch:557 , Loss:1012.6666\n",
            "Epoch:558 , Loss:2244.9246\n",
            "Epoch:559 , Loss:1012.6666\n",
            "Epoch:560 , Loss:1012.6666\n",
            "Epoch:561 , Loss:1012.6666\n",
            "Epoch:562 , Loss:1012.6666\n",
            "Epoch:563 , Loss:1012.6666\n",
            "Epoch:564 , Loss:1012.6666\n",
            "Epoch:565 , Loss:1012.6666\n",
            "Epoch:566 , Loss:1012.6666\n",
            "Epoch:567 , Loss:1012.6666\n",
            "Epoch:568 , Loss:1012.6666\n",
            "Epoch:569 , Loss:1111.5920\n",
            "Epoch:570 , Loss:1012.6666\n",
            "Epoch:571 , Loss:1012.6666\n",
            "Epoch:572 , Loss:1012.6666\n",
            "Epoch:573 , Loss:1012.6666\n",
            "Epoch:574 , Loss:1012.6666\n",
            "Epoch:575 , Loss:1012.6666\n",
            "Epoch:576 , Loss:1012.6666\n",
            "Epoch:577 , Loss:1012.6666\n",
            "Epoch:578 , Loss:1012.6666\n",
            "Epoch:579 , Loss:1012.6666\n",
            "Epoch:580 , Loss:1830.2595\n",
            "Epoch:581 , Loss:1012.6666\n",
            "Epoch:582 , Loss:1012.6666\n",
            "Epoch:583 , Loss:1012.6666\n",
            "Epoch:584 , Loss:1012.6666\n",
            "Epoch:585 , Loss:1448.9626\n",
            "Epoch:586 , Loss:1012.6666\n",
            "Epoch:587 , Loss:1012.6666\n",
            "Epoch:588 , Loss:1012.6666\n",
            "Epoch:589 , Loss:1012.6666\n",
            "Epoch:590 , Loss:1012.6666\n",
            "Epoch:591 , Loss:1012.6666\n",
            "Epoch:592 , Loss:2219.3088\n",
            "Epoch:593 , Loss:1012.6666\n",
            "Epoch:594 , Loss:1012.6666\n",
            "Epoch:595 , Loss:1197.0090\n",
            "Epoch:596 , Loss:1012.6666\n",
            "Epoch:597 , Loss:1012.6666\n",
            "Epoch:598 , Loss:1012.6666\n",
            "Epoch:599 , Loss:1012.6666\n",
            "Epoch:600 , Loss:1012.6666\n",
            "Epoch:601 , Loss:1012.6666\n",
            "Epoch:602 , Loss:1012.6666\n",
            "Epoch:603 , Loss:1012.6666\n",
            "Epoch:604 , Loss:1012.6666\n",
            "Epoch:605 , Loss:1012.6666\n",
            "Epoch:606 , Loss:1012.6666\n",
            "Epoch:607 , Loss:1012.6666\n",
            "Epoch:608 , Loss:1012.6666\n",
            "Epoch:609 , Loss:1012.6666\n",
            "Epoch:610 , Loss:9639.1973\n",
            "Epoch:611 , Loss:3661.6091\n",
            "Epoch:612 , Loss:1012.6666\n",
            "Epoch:613 , Loss:1012.6666\n",
            "Epoch:614 , Loss:1012.6666\n",
            "Epoch:615 , Loss:1012.6666\n",
            "Epoch:616 , Loss:1012.6666\n",
            "Epoch:617 , Loss:1012.6666\n",
            "Epoch:618 , Loss:1012.6666\n",
            "Epoch:619 , Loss:1012.6666\n",
            "Epoch:620 , Loss:1012.6666\n",
            "Epoch:621 , Loss:1012.6666\n",
            "Epoch:622 , Loss:1012.6666\n",
            "Epoch:623 , Loss:1012.6666\n",
            "Epoch:624 , Loss:1012.6666\n",
            "Epoch:625 , Loss:1012.6666\n",
            "Epoch:626 , Loss:1012.6666\n",
            "Epoch:627 , Loss:1053.5100\n",
            "Epoch:628 , Loss:1012.6666\n",
            "Epoch:629 , Loss:1012.6666\n",
            "Epoch:630 , Loss:1012.6666\n",
            "Epoch:631 , Loss:1012.6666\n",
            "Epoch:632 , Loss:1012.6666\n",
            "Epoch:633 , Loss:1012.6666\n",
            "Epoch:634 , Loss:1012.6666\n",
            "Epoch:635 , Loss:1012.6666\n",
            "Epoch:636 , Loss:1012.6666\n",
            "Epoch:637 , Loss:1012.6666\n",
            "Epoch:638 , Loss:1012.6666\n",
            "Epoch:639 , Loss:1012.6666\n",
            "Epoch:640 , Loss:1012.6666\n",
            "Epoch:641 , Loss:1012.6666\n",
            "Epoch:642 , Loss:1012.6666\n",
            "Epoch:643 , Loss:1012.9740\n",
            "Epoch:644 , Loss:1012.6666\n",
            "Epoch:645 , Loss:1254.0754\n",
            "Epoch:646 , Loss:1012.6666\n",
            "Epoch:647 , Loss:1012.6666\n",
            "Epoch:648 , Loss:1012.6666\n",
            "Epoch:649 , Loss:3136.5581\n",
            "Epoch:650 , Loss:1012.6666\n",
            "Epoch:651 , Loss:1012.6666\n",
            "Epoch:652 , Loss:1012.6666\n",
            "Epoch:653 , Loss:1012.6666\n",
            "Epoch:654 , Loss:1012.6666\n",
            "Epoch:655 , Loss:1012.6666\n",
            "Epoch:656 , Loss:2774.1323\n",
            "Epoch:657 , Loss:95811.2891\n",
            "Epoch:658 , Loss:181656.7656\n",
            "Epoch:659 , Loss:1012.6666\n",
            "Epoch:660 , Loss:1012.6666\n",
            "Epoch:661 , Loss:1012.6666\n",
            "Epoch:662 , Loss:1012.6666\n",
            "Epoch:663 , Loss:1012.6666\n",
            "Epoch:664 , Loss:1012.6666\n",
            "Epoch:665 , Loss:1012.6666\n",
            "Epoch:666 , Loss:1012.6666\n",
            "Epoch:667 , Loss:1012.6666\n",
            "Epoch:668 , Loss:1012.6666\n",
            "Epoch:669 , Loss:1012.6666\n",
            "Epoch:670 , Loss:1012.6666\n",
            "Epoch:671 , Loss:1012.6666\n",
            "Epoch:672 , Loss:1012.6666\n",
            "Epoch:673 , Loss:1012.6666\n",
            "Epoch:674 , Loss:1012.6666\n",
            "Epoch:675 , Loss:1012.6666\n",
            "Epoch:676 , Loss:1012.6666\n",
            "Epoch:677 , Loss:1012.6666\n",
            "Epoch:678 , Loss:1012.6666\n",
            "Epoch:679 , Loss:1012.6666\n",
            "Epoch:680 , Loss:1012.6666\n",
            "Epoch:681 , Loss:1012.6666\n",
            "Epoch:682 , Loss:1012.6666\n",
            "Epoch:683 , Loss:1012.6666\n",
            "Epoch:684 , Loss:1012.6666\n",
            "Epoch:685 , Loss:1012.6666\n",
            "Epoch:686 , Loss:1012.6666\n",
            "Epoch:687 , Loss:1012.6666\n",
            "Epoch:688 , Loss:1012.6666\n",
            "Epoch:689 , Loss:1012.6666\n",
            "Epoch:690 , Loss:1012.6666\n",
            "Epoch:691 , Loss:1012.6666\n",
            "Epoch:692 , Loss:1012.6666\n",
            "Epoch:693 , Loss:1012.6666\n",
            "Epoch:694 , Loss:1012.6666\n",
            "Epoch:695 , Loss:1012.6666\n",
            "Epoch:696 , Loss:1012.6666\n",
            "Epoch:697 , Loss:1012.6666\n",
            "Epoch:698 , Loss:1881.7097\n",
            "Epoch:699 , Loss:1012.6666\n",
            "Epoch:700 , Loss:1012.6666\n",
            "Epoch:701 , Loss:1012.6666\n",
            "Epoch:702 , Loss:1012.6666\n",
            "Epoch:703 , Loss:1012.6666\n",
            "Epoch:704 , Loss:1012.6666\n",
            "Epoch:705 , Loss:1012.6666\n",
            "Epoch:706 , Loss:1012.6666\n",
            "Epoch:707 , Loss:1012.6666\n",
            "Epoch:708 , Loss:1012.6666\n",
            "Epoch:709 , Loss:1012.6666\n",
            "Epoch:710 , Loss:1012.6666\n",
            "Epoch:711 , Loss:1012.6666\n",
            "Epoch:712 , Loss:1012.6666\n",
            "Epoch:713 , Loss:1012.6666\n",
            "Epoch:714 , Loss:1012.6666\n",
            "Epoch:715 , Loss:1012.6666\n",
            "Epoch:716 , Loss:1012.6666\n",
            "Epoch:717 , Loss:1012.6666\n",
            "Epoch:718 , Loss:1012.6666\n",
            "Epoch:719 , Loss:1012.6666\n",
            "Epoch:720 , Loss:1012.6666\n",
            "Epoch:721 , Loss:1012.6666\n",
            "Epoch:722 , Loss:1460.8174\n",
            "Epoch:723 , Loss:1285.4417\n",
            "Epoch:724 , Loss:1012.6666\n",
            "Epoch:725 , Loss:1012.6666\n",
            "Epoch:726 , Loss:1012.6666\n",
            "Epoch:727 , Loss:1012.6666\n",
            "Epoch:728 , Loss:1012.6666\n",
            "Epoch:729 , Loss:1012.6666\n",
            "Epoch:730 , Loss:1011.8445\n",
            "Epoch:731 , Loss:3670.1580\n",
            "Epoch:732 , Loss:1012.6666\n",
            "Epoch:733 , Loss:1675.9807\n",
            "Epoch:734 , Loss:1012.6666\n",
            "Epoch:735 , Loss:1970.3740\n",
            "Epoch:736 , Loss:1012.6666\n",
            "Epoch:737 , Loss:1012.6666\n",
            "Epoch:738 , Loss:1012.6666\n",
            "Epoch:739 , Loss:1012.6666\n",
            "Epoch:740 , Loss:1012.6666\n",
            "Epoch:741 , Loss:1012.6666\n",
            "Epoch:742 , Loss:1012.6666\n",
            "Epoch:743 , Loss:1012.6666\n",
            "Epoch:744 , Loss:1012.6666\n",
            "Epoch:745 , Loss:1012.6666\n",
            "Epoch:746 , Loss:1012.6666\n",
            "Epoch:747 , Loss:1012.6666\n",
            "Epoch:748 , Loss:1012.6666\n",
            "Epoch:749 , Loss:1012.6666\n",
            "Epoch:750 , Loss:1012.6666\n",
            "Epoch:751 , Loss:1012.6666\n",
            "Epoch:752 , Loss:1012.6666\n",
            "Epoch:753 , Loss:1012.6666\n",
            "Epoch:754 , Loss:1012.6666\n",
            "Epoch:755 , Loss:1012.6666\n",
            "Epoch:756 , Loss:1012.6666\n",
            "Epoch:757 , Loss:1012.6666\n",
            "Epoch:758 , Loss:1012.6666\n",
            "Epoch:759 , Loss:1012.6666\n",
            "Epoch:760 , Loss:1012.6666\n",
            "Epoch:761 , Loss:1012.6666\n",
            "Epoch:762 , Loss:3228.2319\n",
            "Epoch:763 , Loss:1012.6666\n",
            "Epoch:764 , Loss:1012.6666\n",
            "Epoch:765 , Loss:1012.6666\n",
            "Epoch:766 , Loss:1012.6666\n",
            "Epoch:767 , Loss:1012.6666\n",
            "Epoch:768 , Loss:1012.6666\n",
            "Epoch:769 , Loss:1012.6666\n",
            "Epoch:770 , Loss:1012.6666\n",
            "Epoch:771 , Loss:1012.6666\n",
            "Epoch:772 , Loss:1012.6666\n",
            "Epoch:773 , Loss:1012.6666\n",
            "Epoch:774 , Loss:1012.6666\n",
            "Epoch:775 , Loss:1012.6666\n",
            "Epoch:776 , Loss:1012.6666\n",
            "Epoch:777 , Loss:1012.6666\n",
            "Epoch:778 , Loss:1012.6666\n",
            "Epoch:779 , Loss:1012.6666\n",
            "Epoch:780 , Loss:1019.3199\n",
            "Epoch:781 , Loss:1012.6666\n",
            "Epoch:782 , Loss:1012.6666\n",
            "Epoch:783 , Loss:1012.6666\n",
            "Epoch:784 , Loss:1012.6666\n",
            "Epoch:785 , Loss:1012.6666\n",
            "Epoch:786 , Loss:1012.6666\n",
            "Epoch:787 , Loss:1915.8457\n",
            "Epoch:788 , Loss:1012.6666\n",
            "Epoch:789 , Loss:1307.6956\n",
            "Epoch:790 , Loss:1012.6666\n",
            "Epoch:791 , Loss:1012.6666\n",
            "Epoch:792 , Loss:1012.6666\n",
            "Epoch:793 , Loss:6080.2241\n",
            "Epoch:794 , Loss:1012.6666\n",
            "Epoch:795 , Loss:1012.6666\n",
            "Epoch:796 , Loss:1012.6666\n",
            "Epoch:797 , Loss:1012.6666\n",
            "Epoch:798 , Loss:1012.6666\n",
            "Epoch:799 , Loss:1012.6666\n",
            "Epoch:800 , Loss:1012.6666\n",
            "Epoch:801 , Loss:1012.6666\n",
            "Epoch:802 , Loss:1012.6666\n",
            "Epoch:803 , Loss:1012.6666\n",
            "Epoch:804 , Loss:1012.6666\n",
            "Epoch:805 , Loss:1012.6666\n",
            "Epoch:806 , Loss:1012.6666\n",
            "Epoch:807 , Loss:1012.6666\n",
            "Epoch:808 , Loss:1012.6666\n",
            "Epoch:809 , Loss:1012.6666\n",
            "Epoch:810 , Loss:1012.6666\n",
            "Epoch:811 , Loss:1012.6666\n",
            "Epoch:812 , Loss:1012.6666\n",
            "Epoch:813 , Loss:1012.6666\n",
            "Epoch:814 , Loss:1012.6666\n",
            "Epoch:815 , Loss:1012.6666\n",
            "Epoch:816 , Loss:1012.6666\n",
            "Epoch:817 , Loss:1012.6666\n",
            "Epoch:818 , Loss:1012.6666\n",
            "Epoch:819 , Loss:1012.6666\n",
            "Epoch:820 , Loss:1012.6666\n",
            "Epoch:821 , Loss:1012.6666\n",
            "Epoch:822 , Loss:1012.6666\n",
            "Epoch:823 , Loss:1012.6666\n",
            "Epoch:824 , Loss:1012.6666\n",
            "Epoch:825 , Loss:1012.6666\n",
            "Epoch:826 , Loss:1012.6666\n",
            "Epoch:827 , Loss:1012.6666\n",
            "Epoch:828 , Loss:1012.6666\n",
            "Epoch:829 , Loss:1012.6666\n",
            "Epoch:830 , Loss:1012.6666\n",
            "Epoch:831 , Loss:1012.6666\n",
            "Epoch:832 , Loss:3745.9160\n",
            "Epoch:833 , Loss:1012.6666\n",
            "Epoch:834 , Loss:1012.6666\n",
            "Epoch:835 , Loss:1112.5198\n",
            "Epoch:836 , Loss:1012.6666\n",
            "Epoch:837 , Loss:1012.6666\n",
            "Epoch:838 , Loss:1873.4473\n",
            "Epoch:839 , Loss:1012.6666\n",
            "Epoch:840 , Loss:1012.6666\n",
            "Epoch:841 , Loss:1012.6666\n",
            "Epoch:842 , Loss:1012.6666\n",
            "Epoch:843 , Loss:1012.6666\n",
            "Epoch:844 , Loss:1012.6666\n",
            "Epoch:845 , Loss:1012.6666\n",
            "Epoch:846 , Loss:1012.6666\n",
            "Epoch:847 , Loss:1012.6666\n",
            "Epoch:848 , Loss:1012.6666\n",
            "Epoch:849 , Loss:1012.6666\n",
            "Epoch:850 , Loss:1012.6666\n",
            "Epoch:851 , Loss:1012.6666\n",
            "Epoch:852 , Loss:1012.6666\n",
            "Epoch:853 , Loss:1012.6666\n",
            "Epoch:854 , Loss:1012.6666\n",
            "Epoch:855 , Loss:1012.6666\n",
            "Epoch:856 , Loss:1012.6666\n",
            "Epoch:857 , Loss:1012.6666\n",
            "Epoch:858 , Loss:1012.6666\n",
            "Epoch:859 , Loss:1310.8391\n",
            "Epoch:860 , Loss:1012.6666\n",
            "Epoch:861 , Loss:1012.6666\n",
            "Epoch:862 , Loss:1012.6666\n",
            "Epoch:863 , Loss:1012.6666\n",
            "Epoch:864 , Loss:1012.6666\n",
            "Epoch:865 , Loss:1012.6666\n",
            "Epoch:866 , Loss:1012.6666\n",
            "Epoch:867 , Loss:1012.6666\n",
            "Epoch:868 , Loss:2170.7695\n",
            "Epoch:869 , Loss:1012.6666\n",
            "Epoch:870 , Loss:1012.6666\n",
            "Epoch:871 , Loss:1267.3333\n",
            "Epoch:872 , Loss:1012.6666\n",
            "Epoch:873 , Loss:1012.6666\n",
            "Epoch:874 , Loss:1012.6666\n",
            "Epoch:875 , Loss:1012.6666\n",
            "Epoch:876 , Loss:1012.6666\n",
            "Epoch:877 , Loss:1012.6666\n",
            "Epoch:878 , Loss:1012.6666\n",
            "Epoch:879 , Loss:1012.6666\n",
            "Epoch:880 , Loss:1064.4751\n",
            "Epoch:881 , Loss:1012.6666\n",
            "Epoch:882 , Loss:1012.6666\n",
            "Epoch:883 , Loss:1012.6666\n",
            "Epoch:884 , Loss:1012.6666\n",
            "Epoch:885 , Loss:1012.6666\n",
            "Epoch:886 , Loss:1012.6666\n",
            "Epoch:887 , Loss:1098.0886\n",
            "Epoch:888 , Loss:1012.6666\n",
            "Epoch:889 , Loss:1012.6666\n",
            "Epoch:890 , Loss:1012.6666\n",
            "Epoch:891 , Loss:1012.6666\n",
            "Epoch:892 , Loss:1012.6666\n",
            "Epoch:893 , Loss:1012.6666\n",
            "Epoch:894 , Loss:1012.6325\n",
            "Epoch:895 , Loss:1012.6666\n",
            "Epoch:896 , Loss:1012.6666\n",
            "Epoch:897 , Loss:1012.6666\n",
            "Epoch:898 , Loss:1012.6666\n",
            "Epoch:899 , Loss:2145.4167\n",
            "Epoch:900 , Loss:1012.6666\n",
            "Epoch:901 , Loss:1012.6666\n",
            "Epoch:902 , Loss:1012.6666\n",
            "Epoch:903 , Loss:1012.6666\n",
            "Epoch:904 , Loss:1012.6666\n",
            "Epoch:905 , Loss:1012.6666\n",
            "Epoch:906 , Loss:1012.6666\n",
            "Epoch:907 , Loss:1012.6666\n",
            "Epoch:908 , Loss:1012.6666\n",
            "Epoch:909 , Loss:1012.6666\n",
            "Epoch:910 , Loss:1012.6666\n",
            "Epoch:911 , Loss:1012.6666\n",
            "Epoch:912 , Loss:1012.6666\n",
            "Epoch:913 , Loss:1152.8621\n",
            "Epoch:914 , Loss:1012.6666\n",
            "Epoch:915 , Loss:1012.6666\n",
            "Epoch:916 , Loss:1012.6666\n",
            "Epoch:917 , Loss:1012.6666\n",
            "Epoch:918 , Loss:1012.6666\n",
            "Epoch:919 , Loss:1012.6666\n",
            "Epoch:920 , Loss:1012.6666\n",
            "Epoch:921 , Loss:1012.6666\n",
            "Epoch:922 , Loss:1012.6666\n",
            "Epoch:923 , Loss:1012.6666\n",
            "Epoch:924 , Loss:1012.6666\n",
            "Epoch:925 , Loss:1012.6666\n",
            "Epoch:926 , Loss:2008.9355\n",
            "Epoch:927 , Loss:1012.6666\n",
            "Epoch:928 , Loss:1012.6666\n",
            "Epoch:929 , Loss:1012.6666\n",
            "Epoch:930 , Loss:1012.6666\n",
            "Epoch:931 , Loss:1012.6666\n",
            "Epoch:932 , Loss:1012.6666\n",
            "Epoch:933 , Loss:1012.6666\n",
            "Epoch:934 , Loss:1012.6666\n",
            "Epoch:935 , Loss:1012.6666\n",
            "Epoch:936 , Loss:1012.6666\n",
            "Epoch:937 , Loss:1012.6666\n",
            "Epoch:938 , Loss:1012.6666\n",
            "Epoch:939 , Loss:1012.6666\n",
            "Epoch:940 , Loss:1012.6666\n",
            "Epoch:941 , Loss:1012.6666\n",
            "Epoch:942 , Loss:6399.6182\n",
            "Epoch:943 , Loss:415519.8438\n",
            "Epoch:944 , Loss:263220896.0000\n",
            "Epoch:945 , Loss:879708891774976.0000\n",
            "Epoch:946 , Loss:6709431913389065832251902656512.0000\n",
            "Epoch:947 , Loss:inf\n",
            "Epoch:948 , Loss:nan\n",
            "Epoch:949 , Loss:nan\n",
            "Epoch:950 , Loss:nan\n",
            "Epoch:951 , Loss:nan\n",
            "Epoch:952 , Loss:nan\n",
            "Epoch:953 , Loss:nan\n",
            "Epoch:954 , Loss:nan\n",
            "Epoch:955 , Loss:nan\n",
            "Epoch:956 , Loss:nan\n",
            "Epoch:957 , Loss:nan\n",
            "Epoch:958 , Loss:nan\n",
            "Epoch:959 , Loss:nan\n",
            "Epoch:960 , Loss:nan\n",
            "Epoch:961 , Loss:nan\n",
            "Epoch:962 , Loss:nan\n",
            "Epoch:963 , Loss:nan\n",
            "Epoch:964 , Loss:nan\n",
            "Epoch:965 , Loss:nan\n",
            "Epoch:966 , Loss:nan\n",
            "Epoch:967 , Loss:nan\n",
            "Epoch:968 , Loss:nan\n",
            "Epoch:969 , Loss:nan\n",
            "Epoch:970 , Loss:nan\n",
            "Epoch:971 , Loss:nan\n",
            "Epoch:972 , Loss:nan\n",
            "Epoch:973 , Loss:nan\n",
            "Epoch:974 , Loss:nan\n",
            "Epoch:975 , Loss:nan\n",
            "Epoch:976 , Loss:nan\n",
            "Epoch:977 , Loss:nan\n",
            "Epoch:978 , Loss:nan\n",
            "Epoch:979 , Loss:nan\n",
            "Epoch:980 , Loss:nan\n",
            "Epoch:981 , Loss:nan\n",
            "Epoch:982 , Loss:nan\n",
            "Epoch:983 , Loss:nan\n",
            "Epoch:984 , Loss:nan\n",
            "Epoch:985 , Loss:nan\n",
            "Epoch:986 , Loss:nan\n",
            "Epoch:987 , Loss:nan\n",
            "Epoch:988 , Loss:nan\n",
            "Epoch:989 , Loss:nan\n",
            "Epoch:990 , Loss:nan\n",
            "Epoch:991 , Loss:nan\n",
            "Epoch:992 , Loss:nan\n",
            "Epoch:993 , Loss:nan\n",
            "Epoch:994 , Loss:nan\n",
            "Epoch:995 , Loss:nan\n",
            "Epoch:996 , Loss:nan\n",
            "Epoch:997 , Loss:nan\n",
            "Epoch:998 , Loss:nan\n",
            "Epoch:999 , Loss:nan\n"
          ],
          "name": "stdout"
        }
      ]
    },
    {
      "cell_type": "code",
      "metadata": {
        "id": "FNIrHg0mwCtE",
        "colab_type": "code",
        "colab": {}
      },
      "source": [
        "#自动梯度\n",
        "import torch\n",
        "from torch.autograd import Variable\n",
        " \n",
        "# 批量输入的数据量\n",
        "batch_n = 100\n",
        "# 通过隐藏层后输出的特征数\n",
        "hidden_layer = 100\n",
        "# 输入数据的特征个数\n",
        "input_data = 1000\n",
        "# 最后输出的分类结果数\n",
        "output_data = 10"
      ],
      "execution_count": 1,
      "outputs": []
    },
    {
      "cell_type": "code",
      "metadata": {
        "id": "Fm8ivPB9XhV8",
        "colab_type": "code",
        "colab": {}
      },
      "source": [
        "x = Variable(torch.randn(batch_n , input_data) , requires_grad = False)\n",
        "y = Variable(torch.randn(batch_n , output_data) , requires_grad = False)\n",
        " \n",
        "w1 = Variable(torch.randn(input_data,hidden_layer),requires_grad = True)\n",
        "w2 = Variable(torch.randn(hidden_layer,output_data),requires_grad = True)"
      ],
      "execution_count": 2,
      "outputs": []
    },
    {
      "cell_type": "code",
      "metadata": {
        "id": "XX-PKsxDXj7l",
        "colab_type": "code",
        "colab": {}
      },
      "source": [
        "epoch_n = 100\n",
        "learning_rate = 1e-6"
      ],
      "execution_count": 5,
      "outputs": []
    },
    {
      "cell_type": "code",
      "metadata": {
        "id": "id40UjK7XqQd",
        "colab_type": "code",
        "colab": {
          "base_uri": "https://localhost:8080/",
          "height": 1000
        },
        "outputId": "3e84fd54-3e94-4082-cf0f-db1072086ea5"
      },
      "source": [
        "for epoch in range(epoch_n):\n",
        " \n",
        "    y_pred = x.mm(w1).clamp(min= 0 ).mm(w2)\n",
        "    loss = (y_pred - y).pow(2).sum()\n",
        "    print(\"Epoch:{} , Loss:{:.4f}\".format(epoch, loss.data))\n",
        " \n",
        "    loss.backward()\n",
        "    w1.data -= learning_rate * w1.grad.data\n",
        "    w2.data -= learning_rate * w2.grad.data\n",
        " \n",
        "    w1.grad.data.zero_()\n",
        "    w2.grad.data.zero_()"
      ],
      "execution_count": 6,
      "outputs": [
        {
          "output_type": "stream",
          "text": [
            "Epoch:0 , Loss:nan\n",
            "Epoch:1 , Loss:nan\n",
            "Epoch:2 , Loss:nan\n",
            "Epoch:3 , Loss:nan\n",
            "Epoch:4 , Loss:nan\n",
            "Epoch:5 , Loss:nan\n",
            "Epoch:6 , Loss:nan\n",
            "Epoch:7 , Loss:nan\n",
            "Epoch:8 , Loss:nan\n",
            "Epoch:9 , Loss:nan\n",
            "Epoch:10 , Loss:nan\n",
            "Epoch:11 , Loss:nan\n",
            "Epoch:12 , Loss:nan\n",
            "Epoch:13 , Loss:nan\n",
            "Epoch:14 , Loss:nan\n",
            "Epoch:15 , Loss:nan\n",
            "Epoch:16 , Loss:nan\n",
            "Epoch:17 , Loss:nan\n",
            "Epoch:18 , Loss:nan\n",
            "Epoch:19 , Loss:nan\n",
            "Epoch:20 , Loss:nan\n",
            "Epoch:21 , Loss:nan\n",
            "Epoch:22 , Loss:nan\n",
            "Epoch:23 , Loss:nan\n",
            "Epoch:24 , Loss:nan\n",
            "Epoch:25 , Loss:nan\n",
            "Epoch:26 , Loss:nan\n",
            "Epoch:27 , Loss:nan\n",
            "Epoch:28 , Loss:nan\n",
            "Epoch:29 , Loss:nan\n",
            "Epoch:30 , Loss:nan\n",
            "Epoch:31 , Loss:nan\n",
            "Epoch:32 , Loss:nan\n",
            "Epoch:33 , Loss:nan\n",
            "Epoch:34 , Loss:nan\n",
            "Epoch:35 , Loss:nan\n",
            "Epoch:36 , Loss:nan\n",
            "Epoch:37 , Loss:nan\n",
            "Epoch:38 , Loss:nan\n",
            "Epoch:39 , Loss:nan\n",
            "Epoch:40 , Loss:nan\n",
            "Epoch:41 , Loss:nan\n",
            "Epoch:42 , Loss:nan\n",
            "Epoch:43 , Loss:nan\n",
            "Epoch:44 , Loss:nan\n",
            "Epoch:45 , Loss:nan\n",
            "Epoch:46 , Loss:nan\n",
            "Epoch:47 , Loss:nan\n",
            "Epoch:48 , Loss:nan\n",
            "Epoch:49 , Loss:nan\n",
            "Epoch:50 , Loss:nan\n",
            "Epoch:51 , Loss:nan\n",
            "Epoch:52 , Loss:nan\n",
            "Epoch:53 , Loss:nan\n",
            "Epoch:54 , Loss:nan\n",
            "Epoch:55 , Loss:nan\n",
            "Epoch:56 , Loss:nan\n",
            "Epoch:57 , Loss:nan\n",
            "Epoch:58 , Loss:nan\n",
            "Epoch:59 , Loss:nan\n",
            "Epoch:60 , Loss:nan\n",
            "Epoch:61 , Loss:nan\n",
            "Epoch:62 , Loss:nan\n",
            "Epoch:63 , Loss:nan\n",
            "Epoch:64 , Loss:nan\n",
            "Epoch:65 , Loss:nan\n",
            "Epoch:66 , Loss:nan\n",
            "Epoch:67 , Loss:nan\n",
            "Epoch:68 , Loss:nan\n",
            "Epoch:69 , Loss:nan\n",
            "Epoch:70 , Loss:nan\n",
            "Epoch:71 , Loss:nan\n",
            "Epoch:72 , Loss:nan\n",
            "Epoch:73 , Loss:nan\n",
            "Epoch:74 , Loss:nan\n",
            "Epoch:75 , Loss:nan\n",
            "Epoch:76 , Loss:nan\n",
            "Epoch:77 , Loss:nan\n",
            "Epoch:78 , Loss:nan\n",
            "Epoch:79 , Loss:nan\n",
            "Epoch:80 , Loss:nan\n",
            "Epoch:81 , Loss:nan\n",
            "Epoch:82 , Loss:nan\n",
            "Epoch:83 , Loss:nan\n",
            "Epoch:84 , Loss:nan\n",
            "Epoch:85 , Loss:nan\n",
            "Epoch:86 , Loss:nan\n",
            "Epoch:87 , Loss:nan\n",
            "Epoch:88 , Loss:nan\n",
            "Epoch:89 , Loss:nan\n",
            "Epoch:90 , Loss:nan\n",
            "Epoch:91 , Loss:nan\n",
            "Epoch:92 , Loss:nan\n",
            "Epoch:93 , Loss:nan\n",
            "Epoch:94 , Loss:nan\n",
            "Epoch:95 , Loss:nan\n",
            "Epoch:96 , Loss:nan\n",
            "Epoch:97 , Loss:nan\n",
            "Epoch:98 , Loss:nan\n",
            "Epoch:99 , Loss:nan\n"
          ],
          "name": "stdout"
        }
      ]
    },
    {
      "cell_type": "code",
      "metadata": {
        "id": "M5PR3ydFX4Bs",
        "colab_type": "code",
        "colab": {}
      },
      "source": [
        "#_*_coding:utf-8_*_\n",
        "import torch\n",
        "from torch.autograd import Variable\n",
        " \n",
        "# 批量输入的数据量\n",
        "batch_n = 100\n",
        "# 通过隐藏层后输出的特征数\n",
        "hidden_layer = 100\n",
        "# 输入数据的特征个数\n",
        "input_data = 1000\n",
        "# 最后输出的分类结果数\n",
        "output_data = 10"
      ],
      "execution_count": 7,
      "outputs": []
    },
    {
      "cell_type": "code",
      "metadata": {
        "id": "jW40lw2jau5E",
        "colab_type": "code",
        "colab": {}
      },
      "source": [
        "x = Variable(torch.randn(batch_n , input_data) , requires_grad = False)\n",
        "y = Variable(torch.randn(batch_n , output_data) , requires_grad = False)"
      ],
      "execution_count": 8,
      "outputs": []
    },
    {
      "cell_type": "code",
      "metadata": {
        "id": "8fidxN6PaxKW",
        "colab_type": "code",
        "colab": {}
      },
      "source": [
        "models = torch.nn.Sequential(\n",
        "    # 首先通过其完成从输入层到隐藏层的线性变换\n",
        "    torch.nn.Linear(input_data,hidden_layer),\n",
        "    # 经过激活函数\n",
        "    torch.nn.ReLU(),\n",
        "    # 最后完成从隐藏层到输出层的线性变换\n",
        "    torch.nn.Linear(hidden_layer,output_data)\n",
        ")"
      ],
      "execution_count": 9,
      "outputs": []
    },
    {
      "cell_type": "code",
      "metadata": {
        "id": "fOZXzNyMazMM",
        "colab_type": "code",
        "colab": {
          "base_uri": "https://localhost:8080/",
          "height": 107
        },
        "outputId": "43c6762f-5983-489e-baac-39a63d3469c5"
      },
      "source": [
        "models"
      ],
      "execution_count": 10,
      "outputs": [
        {
          "output_type": "execute_result",
          "data": {
            "text/plain": [
              "Sequential(\n",
              "  (0): Linear(in_features=1000, out_features=100, bias=True)\n",
              "  (1): ReLU()\n",
              "  (2): Linear(in_features=100, out_features=10, bias=True)\n",
              ")"
            ]
          },
          "metadata": {
            "tags": []
          },
          "execution_count": 10
        }
      ]
    },
    {
      "cell_type": "code",
      "metadata": {
        "id": "INUc0zhgbEIL",
        "colab_type": "code",
        "colab": {}
      },
      "source": [
        "epoch_n = 10000\n",
        "learning_rate = 1e-4\n",
        "loss_fn = torch.nn.MSELoss()"
      ],
      "execution_count": 11,
      "outputs": []
    },
    {
      "cell_type": "code",
      "metadata": {
        "id": "GbiMLJdfb7VU",
        "colab_type": "code",
        "colab": {
          "base_uri": "https://localhost:8080/",
          "height": 197
        },
        "outputId": "65671683-e997-4d33-ed8d-7a5883df90f1"
      },
      "source": [
        "for epoch in range(epoch_n):\n",
        "    y_pred = models(x)\n",
        "    loss = loss_fn(y_pred,y)\n",
        "    if epoch%1000 == 0:\n",
        "        print(\"Epoch:{},Loss:{:.4f}\".format(epoch,loss.data))\n",
        "    models.zero_grad()\n",
        " \n",
        "    loss.backward()\n",
        " \n",
        "    for param in models.parameters():\n",
        "        param.data -= param.grad.data*learning_rate"
      ],
      "execution_count": 14,
      "outputs": [
        {
          "output_type": "stream",
          "text": [
            "Epoch:0,Loss:1.0328\n",
            "Epoch:1000,Loss:0.9563\n",
            "Epoch:2000,Loss:0.8896\n",
            "Epoch:3000,Loss:0.8304\n",
            "Epoch:4000,Loss:0.7772\n",
            "Epoch:5000,Loss:0.7291\n",
            "Epoch:6000,Loss:0.6854\n",
            "Epoch:7000,Loss:0.6451\n",
            "Epoch:8000,Loss:0.6075\n",
            "Epoch:9000,Loss:0.5722\n"
          ],
          "name": "stdout"
        }
      ]
    },
    {
      "cell_type": "code",
      "metadata": {
        "id": "sYKjksAScdv0",
        "colab_type": "code",
        "colab": {}
      },
      "source": [
        "\n",
        "import torch\n",
        "from torch.autograd import Variable\n",
        " \n",
        "# 批量输入的数据量\n",
        "batch_n = 100\n",
        "# 通过隐藏层后输出的特征数\n",
        "hidden_layer = 100\n",
        "# 输入数据的特征个数\n",
        "input_data = 1000\n",
        "# 最后输出的分类结果数\n",
        "output_data = 10\n",
        " \n",
        "x = Variable(torch.randn(batch_n , input_data) , requires_grad = False)\n",
        "y = Variable(torch.randn(batch_n , output_data) , requires_grad = False)\n",
        " \n",
        "models = torch.nn.Sequential(\n",
        "    # 首先通过其完成从输入层到隐藏层的线性变换\n",
        "    torch.nn.Linear(input_data,hidden_layer),\n",
        "    # 经过激活函数\n",
        "    torch.nn.ReLU(),\n",
        "    # 最后完成从隐藏层到输出层的线性变换\n",
        "    torch.nn.Linear(hidden_layer,output_data)\n",
        ")\n",
        "# print(models)\n",
        "\n",
        "epoch_n = 2100\n",
        "learning_rate = 1e-5\n",
        "loss_fn = torch.nn.MSELoss()\n",
        " \n",
        "optimzer = torch.optim.Adam(models.parameters(),lr = learning_rate)"
      ],
      "execution_count": 24,
      "outputs": []
    },
    {
      "cell_type": "code",
      "metadata": {
        "id": "A3tsG3NHdqI8",
        "colab_type": "code",
        "colab": {
          "base_uri": "https://localhost:8080/",
          "height": 71
        },
        "outputId": "7583ef8d-dd33-475d-c824-cc219faf1d02"
      },
      "source": [
        "for epoch in range(epoch_n):\n",
        "    y_pred = models(x)\n",
        "    loss = loss_fn(y_pred,y)\n",
        "    if epoch%1000 == 0:\n",
        "        print(\"Epoch:{},Loss:{:.4f}\".format(epoch,loss.data))\n",
        "    optimzer.zero_grad()\n",
        " \n",
        "    loss.backward()\n",
        " \n",
        "    #进行梯度更新\n",
        "    optimzer.step()"
      ],
      "execution_count": 25,
      "outputs": [
        {
          "output_type": "stream",
          "text": [
            "Epoch:0,Loss:1.0135\n",
            "Epoch:1000,Loss:0.1294\n",
            "Epoch:2000,Loss:0.0055\n"
          ],
          "name": "stdout"
        }
      ]
    },
    {
      "cell_type": "code",
      "metadata": {
        "id": "6W3Prfvrd3Zk",
        "colab_type": "code",
        "colab": {
          "base_uri": "https://localhost:8080/",
          "height": 35
        },
        "outputId": "7012d7ea-1bd4-4e69-e12a-67014dbc0c15"
      },
      "source": [
        "import torch\n",
        "import numpy as np\n",
        "torch.__version__"
      ],
      "execution_count": 25,
      "outputs": [
        {
          "output_type": "execute_result",
          "data": {
            "application/vnd.google.colaboratory.intrinsic": {
              "type": "string"
            },
            "text/plain": [
              "'1.5.1+cu101'"
            ]
          },
          "metadata": {
            "tags": []
          },
          "execution_count": 25
        }
      ]
    },
    {
      "cell_type": "code",
      "metadata": {
        "id": "hgtcJDwx4AQM",
        "colab_type": "code",
        "colab": {
          "base_uri": "https://localhost:8080/",
          "height": 107
        },
        "outputId": "94bae28e-9f3e-494e-b849-185f858e28c4"
      },
      "source": [
        "x = torch.rand(5, 5, requires_grad=True)\n",
        "x"
      ],
      "execution_count": 26,
      "outputs": [
        {
          "output_type": "execute_result",
          "data": {
            "text/plain": [
              "tensor([[0.9255, 0.4673, 0.7225, 0.3779, 0.8026],\n",
              "        [0.3345, 0.6835, 0.1035, 0.3487, 0.6173],\n",
              "        [0.6522, 0.1718, 0.5189, 0.9637, 0.6710],\n",
              "        [0.8441, 0.8648, 0.3550, 0.7451, 0.2294],\n",
              "        [0.8108, 0.5408, 0.3117, 0.4459, 0.6386]], requires_grad=True)"
            ]
          },
          "metadata": {
            "tags": []
          },
          "execution_count": 26
        }
      ]
    },
    {
      "cell_type": "code",
      "metadata": {
        "id": "4q_rApTk5kCS",
        "colab_type": "code",
        "colab": {
          "base_uri": "https://localhost:8080/",
          "height": 107
        },
        "outputId": "86919ad1-8975-496f-94ff-7f4fd2695c5d"
      },
      "source": [
        "y = torch.rand(5, 5, requires_grad=True)\n",
        "y"
      ],
      "execution_count": 27,
      "outputs": [
        {
          "output_type": "execute_result",
          "data": {
            "text/plain": [
              "tensor([[0.9720, 0.0252, 0.8219, 0.8955, 0.6289],\n",
              "        [0.2228, 0.3832, 0.8263, 0.4636, 0.4640],\n",
              "        [0.9322, 0.8699, 0.2127, 0.2558, 0.7955],\n",
              "        [0.1982, 0.1957, 0.5275, 0.2443, 0.8821],\n",
              "        [0.7253, 0.1434, 0.0523, 0.5425, 0.6071]], requires_grad=True)"
            ]
          },
          "metadata": {
            "tags": []
          },
          "execution_count": 27
        }
      ]
    },
    {
      "cell_type": "code",
      "metadata": {
        "id": "gITVc5Xo5rMb",
        "colab_type": "code",
        "colab": {}
      },
      "source": [
        "z = torch,sum(x + y)"
      ],
      "execution_count": 28,
      "outputs": []
    },
    {
      "cell_type": "code",
      "metadata": {
        "id": "kf1xySJo5xY4",
        "colab_type": "code",
        "colab": {
          "base_uri": "https://localhost:8080/",
          "height": 53
        },
        "outputId": "c298a1b0-91ae-493f-c2fa-6b73815c0735"
      },
      "source": [
        "z"
      ],
      "execution_count": 29,
      "outputs": [
        {
          "output_type": "execute_result",
          "data": {
            "text/plain": [
              "(<module 'torch' from '/usr/local/lib/python3.6/dist-packages/torch/__init__.py'>,\n",
              " tensor([6.6177, 4.3456, 4.4521, 5.2829, 6.3365], grad_fn=<AddBackward0>))"
            ]
          },
          "metadata": {
            "tags": []
          },
          "execution_count": 29
        }
      ]
    },
    {
      "cell_type": "code",
      "metadata": {
        "id": "KbRZG-6f5ygr",
        "colab_type": "code",
        "colab": {
          "base_uri": "https://localhost:8080/",
          "height": 191
        },
        "outputId": "f763f443-061e-45a7-fac2-0bc61b158331"
      },
      "source": [
        "z.backward()\n",
        "print(x.grad, y.grad)"
      ],
      "execution_count": 30,
      "outputs": [
        {
          "output_type": "error",
          "ename": "AttributeError",
          "evalue": "ignored",
          "traceback": [
            "\u001b[0;31m---------------------------------------------------------------------------\u001b[0m",
            "\u001b[0;31mAttributeError\u001b[0m                            Traceback (most recent call last)",
            "\u001b[0;32m<ipython-input-30-2ae80b35dd29>\u001b[0m in \u001b[0;36m<module>\u001b[0;34m()\u001b[0m\n\u001b[0;32m----> 1\u001b[0;31m \u001b[0mz\u001b[0m\u001b[0;34m.\u001b[0m\u001b[0mbackward\u001b[0m\u001b[0;34m(\u001b[0m\u001b[0;34m)\u001b[0m\u001b[0;34m\u001b[0m\u001b[0;34m\u001b[0m\u001b[0m\n\u001b[0m\u001b[1;32m      2\u001b[0m \u001b[0mprint\u001b[0m\u001b[0;34m(\u001b[0m\u001b[0mx\u001b[0m\u001b[0;34m.\u001b[0m\u001b[0mgrad\u001b[0m\u001b[0;34m,\u001b[0m \u001b[0my\u001b[0m\u001b[0;34m.\u001b[0m\u001b[0mgrad\u001b[0m\u001b[0;34m)\u001b[0m\u001b[0;34m\u001b[0m\u001b[0;34m\u001b[0m\u001b[0m\n",
            "\u001b[0;31mAttributeError\u001b[0m: 'tuple' object has no attribute 'backward'"
          ]
        }
      ]
    },
    {
      "cell_type": "code",
      "metadata": {
        "id": "tpa-5Q-T6EqB",
        "colab_type": "code",
        "colab": {
          "base_uri": "https://localhost:8080/",
          "height": 107
        },
        "outputId": "2296bc42-6df2-4eaa-9659-b20aa7e580f1"
      },
      "source": [
        "x = torch.rand(5, 5, requires_grad=True)\n",
        "y = torch.rand(5, 5, requires_grad=True)\n",
        "z= x**2+y**3\n",
        "z"
      ],
      "execution_count": 31,
      "outputs": [
        {
          "output_type": "execute_result",
          "data": {
            "text/plain": [
              "tensor([[0.6927, 0.4282, 0.2400, 0.6807, 0.5596],\n",
              "        [0.0955, 0.5638, 1.2414, 0.5413, 0.4295],\n",
              "        [1.2357, 0.3080, 1.0844, 1.6119, 0.3841],\n",
              "        [0.2660, 0.2394, 0.9486, 0.1733, 0.3114],\n",
              "        [0.2122, 0.1706, 0.2492, 0.4040, 0.7968]], grad_fn=<AddBackward0>)"
            ]
          },
          "metadata": {
            "tags": []
          },
          "execution_count": 31
        }
      ]
    },
    {
      "cell_type": "code",
      "metadata": {
        "id": "cWH1ypbj7sR0",
        "colab_type": "code",
        "colab": {
          "base_uri": "https://localhost:8080/",
          "height": 107
        },
        "outputId": "78abc679-27c0-46ba-ff72-a9d9cd9f54fa"
      },
      "source": [
        "z.backward(torch.ones_like(x))\n",
        "print(x.grad)"
      ],
      "execution_count": 32,
      "outputs": [
        {
          "output_type": "stream",
          "text": [
            "tensor([[1.4997, 1.3083, 0.8437, 1.5845, 1.1904],\n",
            "        [0.5273, 0.7886, 1.2818, 0.8266, 0.3450],\n",
            "        [1.4084, 1.0730, 1.8938, 1.6406, 1.0917],\n",
            "        [1.0054, 0.8782, 0.2202, 0.0951, 0.0421],\n",
            "        [0.7252, 0.4996, 0.9737, 0.4108, 1.6327]])\n"
          ],
          "name": "stdout"
        }
      ]
    },
    {
      "cell_type": "code",
      "metadata": {
        "id": "BvQo2SUL7vyx",
        "colab_type": "code",
        "colab": {
          "base_uri": "https://localhost:8080/",
          "height": 35
        },
        "outputId": "ad7e5fb5-1a08-4e95-9097-ad136c40215f"
      },
      "source": [
        "with torch.no_grad():\n",
        "    print((x +y*2).requires_grad)"
      ],
      "execution_count": 33,
      "outputs": [
        {
          "output_type": "stream",
          "text": [
            "False\n"
          ],
          "name": "stdout"
        }
      ]
    },
    {
      "cell_type": "code",
      "metadata": {
        "id": "hqNdRGC38Eqx",
        "colab_type": "code",
        "colab": {
          "base_uri": "https://localhost:8080/",
          "height": 1000
        },
        "outputId": "0928931a-3137-42fb-ded8-c242a8fb2aa0"
      },
      "source": [
        "dir(z)"
      ],
      "execution_count": 34,
      "outputs": [
        {
          "output_type": "execute_result",
          "data": {
            "text/plain": [
              "['T',\n",
              " '__abs__',\n",
              " '__add__',\n",
              " '__and__',\n",
              " '__array__',\n",
              " '__array_priority__',\n",
              " '__array_wrap__',\n",
              " '__bool__',\n",
              " '__class__',\n",
              " '__contains__',\n",
              " '__deepcopy__',\n",
              " '__delattr__',\n",
              " '__delitem__',\n",
              " '__dict__',\n",
              " '__dir__',\n",
              " '__div__',\n",
              " '__doc__',\n",
              " '__eq__',\n",
              " '__float__',\n",
              " '__floordiv__',\n",
              " '__format__',\n",
              " '__ge__',\n",
              " '__getattribute__',\n",
              " '__getitem__',\n",
              " '__gt__',\n",
              " '__hash__',\n",
              " '__iadd__',\n",
              " '__iand__',\n",
              " '__idiv__',\n",
              " '__ifloordiv__',\n",
              " '__ilshift__',\n",
              " '__imul__',\n",
              " '__index__',\n",
              " '__init__',\n",
              " '__init_subclass__',\n",
              " '__int__',\n",
              " '__invert__',\n",
              " '__ior__',\n",
              " '__ipow__',\n",
              " '__irshift__',\n",
              " '__isub__',\n",
              " '__iter__',\n",
              " '__itruediv__',\n",
              " '__ixor__',\n",
              " '__le__',\n",
              " '__len__',\n",
              " '__long__',\n",
              " '__lshift__',\n",
              " '__lt__',\n",
              " '__matmul__',\n",
              " '__mod__',\n",
              " '__module__',\n",
              " '__mul__',\n",
              " '__ne__',\n",
              " '__neg__',\n",
              " '__new__',\n",
              " '__nonzero__',\n",
              " '__or__',\n",
              " '__pow__',\n",
              " '__radd__',\n",
              " '__rdiv__',\n",
              " '__reduce__',\n",
              " '__reduce_ex__',\n",
              " '__repr__',\n",
              " '__reversed__',\n",
              " '__rfloordiv__',\n",
              " '__rmul__',\n",
              " '__rpow__',\n",
              " '__rshift__',\n",
              " '__rsub__',\n",
              " '__rtruediv__',\n",
              " '__setattr__',\n",
              " '__setitem__',\n",
              " '__setstate__',\n",
              " '__sizeof__',\n",
              " '__str__',\n",
              " '__sub__',\n",
              " '__subclasshook__',\n",
              " '__truediv__',\n",
              " '__weakref__',\n",
              " '__xor__',\n",
              " '_backward_hooks',\n",
              " '_base',\n",
              " '_cdata',\n",
              " '_coalesced_',\n",
              " '_dimI',\n",
              " '_dimV',\n",
              " '_grad',\n",
              " '_grad_fn',\n",
              " '_indices',\n",
              " '_is_view',\n",
              " '_make_subclass',\n",
              " '_nnz',\n",
              " '_update_names',\n",
              " '_values',\n",
              " '_version',\n",
              " 'abs',\n",
              " 'abs_',\n",
              " 'acos',\n",
              " 'acos_',\n",
              " 'add',\n",
              " 'add_',\n",
              " 'addbmm',\n",
              " 'addbmm_',\n",
              " 'addcdiv',\n",
              " 'addcdiv_',\n",
              " 'addcmul',\n",
              " 'addcmul_',\n",
              " 'addmm',\n",
              " 'addmm_',\n",
              " 'addmv',\n",
              " 'addmv_',\n",
              " 'addr',\n",
              " 'addr_',\n",
              " 'align_as',\n",
              " 'align_to',\n",
              " 'all',\n",
              " 'allclose',\n",
              " 'angle',\n",
              " 'any',\n",
              " 'apply_',\n",
              " 'argmax',\n",
              " 'argmin',\n",
              " 'argsort',\n",
              " 'as_strided',\n",
              " 'as_strided_',\n",
              " 'asin',\n",
              " 'asin_',\n",
              " 'atan',\n",
              " 'atan2',\n",
              " 'atan2_',\n",
              " 'atan_',\n",
              " 'backward',\n",
              " 'baddbmm',\n",
              " 'baddbmm_',\n",
              " 'bernoulli',\n",
              " 'bernoulli_',\n",
              " 'bfloat16',\n",
              " 'bincount',\n",
              " 'bitwise_and',\n",
              " 'bitwise_and_',\n",
              " 'bitwise_not',\n",
              " 'bitwise_not_',\n",
              " 'bitwise_or',\n",
              " 'bitwise_or_',\n",
              " 'bitwise_xor',\n",
              " 'bitwise_xor_',\n",
              " 'bmm',\n",
              " 'bool',\n",
              " 'byte',\n",
              " 'cauchy_',\n",
              " 'ceil',\n",
              " 'ceil_',\n",
              " 'char',\n",
              " 'cholesky',\n",
              " 'cholesky_inverse',\n",
              " 'cholesky_solve',\n",
              " 'chunk',\n",
              " 'clamp',\n",
              " 'clamp_',\n",
              " 'clamp_max',\n",
              " 'clamp_max_',\n",
              " 'clamp_min',\n",
              " 'clamp_min_',\n",
              " 'clone',\n",
              " 'coalesce',\n",
              " 'conj',\n",
              " 'contiguous',\n",
              " 'copy_',\n",
              " 'cos',\n",
              " 'cos_',\n",
              " 'cosh',\n",
              " 'cosh_',\n",
              " 'cpu',\n",
              " 'cross',\n",
              " 'cuda',\n",
              " 'cummax',\n",
              " 'cummin',\n",
              " 'cumprod',\n",
              " 'cumsum',\n",
              " 'data',\n",
              " 'data_ptr',\n",
              " 'dense_dim',\n",
              " 'dequantize',\n",
              " 'det',\n",
              " 'detach',\n",
              " 'detach_',\n",
              " 'device',\n",
              " 'diag',\n",
              " 'diag_embed',\n",
              " 'diagflat',\n",
              " 'diagonal',\n",
              " 'digamma',\n",
              " 'digamma_',\n",
              " 'dim',\n",
              " 'dist',\n",
              " 'div',\n",
              " 'div_',\n",
              " 'dot',\n",
              " 'double',\n",
              " 'dtype',\n",
              " 'eig',\n",
              " 'element_size',\n",
              " 'eq',\n",
              " 'eq_',\n",
              " 'equal',\n",
              " 'erf',\n",
              " 'erf_',\n",
              " 'erfc',\n",
              " 'erfc_',\n",
              " 'erfinv',\n",
              " 'erfinv_',\n",
              " 'exp',\n",
              " 'exp_',\n",
              " 'expand',\n",
              " 'expand_as',\n",
              " 'expm1',\n",
              " 'expm1_',\n",
              " 'exponential_',\n",
              " 'fft',\n",
              " 'fill_',\n",
              " 'fill_diagonal_',\n",
              " 'flatten',\n",
              " 'flip',\n",
              " 'float',\n",
              " 'floor',\n",
              " 'floor_',\n",
              " 'floor_divide',\n",
              " 'floor_divide_',\n",
              " 'fmod',\n",
              " 'fmod_',\n",
              " 'frac',\n",
              " 'frac_',\n",
              " 'gather',\n",
              " 'ge',\n",
              " 'ge_',\n",
              " 'geometric_',\n",
              " 'geqrf',\n",
              " 'ger',\n",
              " 'get_device',\n",
              " 'grad',\n",
              " 'grad_fn',\n",
              " 'gt',\n",
              " 'gt_',\n",
              " 'half',\n",
              " 'hardshrink',\n",
              " 'has_names',\n",
              " 'histc',\n",
              " 'ifft',\n",
              " 'index_add',\n",
              " 'index_add_',\n",
              " 'index_copy',\n",
              " 'index_copy_',\n",
              " 'index_fill',\n",
              " 'index_fill_',\n",
              " 'index_put',\n",
              " 'index_put_',\n",
              " 'index_select',\n",
              " 'indices',\n",
              " 'int',\n",
              " 'int_repr',\n",
              " 'inverse',\n",
              " 'irfft',\n",
              " 'is_coalesced',\n",
              " 'is_complex',\n",
              " 'is_contiguous',\n",
              " 'is_cuda',\n",
              " 'is_distributed',\n",
              " 'is_floating_point',\n",
              " 'is_leaf',\n",
              " 'is_mkldnn',\n",
              " 'is_nonzero',\n",
              " 'is_pinned',\n",
              " 'is_quantized',\n",
              " 'is_same_size',\n",
              " 'is_set_to',\n",
              " 'is_shared',\n",
              " 'is_signed',\n",
              " 'is_sparse',\n",
              " 'isclose',\n",
              " 'item',\n",
              " 'kthvalue',\n",
              " 'layout',\n",
              " 'le',\n",
              " 'le_',\n",
              " 'lerp',\n",
              " 'lerp_',\n",
              " 'lgamma',\n",
              " 'lgamma_',\n",
              " 'log',\n",
              " 'log10',\n",
              " 'log10_',\n",
              " 'log1p',\n",
              " 'log1p_',\n",
              " 'log2',\n",
              " 'log2_',\n",
              " 'log_',\n",
              " 'log_normal_',\n",
              " 'log_softmax',\n",
              " 'logdet',\n",
              " 'logical_and',\n",
              " 'logical_and_',\n",
              " 'logical_not',\n",
              " 'logical_not_',\n",
              " 'logical_or',\n",
              " 'logical_or_',\n",
              " 'logical_xor',\n",
              " 'logical_xor_',\n",
              " 'logsumexp',\n",
              " 'long',\n",
              " 'lstsq',\n",
              " 'lt',\n",
              " 'lt_',\n",
              " 'lu',\n",
              " 'lu_solve',\n",
              " 'map2_',\n",
              " 'map_',\n",
              " 'masked_fill',\n",
              " 'masked_fill_',\n",
              " 'masked_scatter',\n",
              " 'masked_scatter_',\n",
              " 'masked_select',\n",
              " 'matmul',\n",
              " 'matrix_power',\n",
              " 'max',\n",
              " 'mean',\n",
              " 'median',\n",
              " 'min',\n",
              " 'mm',\n",
              " 'mode',\n",
              " 'mul',\n",
              " 'mul_',\n",
              " 'multinomial',\n",
              " 'mv',\n",
              " 'mvlgamma',\n",
              " 'mvlgamma_',\n",
              " 'name',\n",
              " 'names',\n",
              " 'narrow',\n",
              " 'narrow_copy',\n",
              " 'ndim',\n",
              " 'ndimension',\n",
              " 'ne',\n",
              " 'ne_',\n",
              " 'neg',\n",
              " 'neg_',\n",
              " 'nelement',\n",
              " 'new',\n",
              " 'new_empty',\n",
              " 'new_full',\n",
              " 'new_ones',\n",
              " 'new_tensor',\n",
              " 'new_zeros',\n",
              " 'nonzero',\n",
              " 'norm',\n",
              " 'normal_',\n",
              " 'numel',\n",
              " 'numpy',\n",
              " 'orgqr',\n",
              " 'ormqr',\n",
              " 'output_nr',\n",
              " 'permute',\n",
              " 'pin_memory',\n",
              " 'pinverse',\n",
              " 'polygamma',\n",
              " 'polygamma_',\n",
              " 'pow',\n",
              " 'pow_',\n",
              " 'prelu',\n",
              " 'prod',\n",
              " 'put_',\n",
              " 'q_per_channel_axis',\n",
              " 'q_per_channel_scales',\n",
              " 'q_per_channel_zero_points',\n",
              " 'q_scale',\n",
              " 'q_zero_point',\n",
              " 'qr',\n",
              " 'qscheme',\n",
              " 'random_',\n",
              " 'reciprocal',\n",
              " 'reciprocal_',\n",
              " 'record_stream',\n",
              " 'refine_names',\n",
              " 'register_hook',\n",
              " 'reinforce',\n",
              " 'relu',\n",
              " 'relu_',\n",
              " 'remainder',\n",
              " 'remainder_',\n",
              " 'rename',\n",
              " 'rename_',\n",
              " 'renorm',\n",
              " 'renorm_',\n",
              " 'repeat',\n",
              " 'repeat_interleave',\n",
              " 'requires_grad',\n",
              " 'requires_grad_',\n",
              " 'reshape',\n",
              " 'reshape_as',\n",
              " 'resize',\n",
              " 'resize_',\n",
              " 'resize_as',\n",
              " 'resize_as_',\n",
              " 'retain_grad',\n",
              " 'rfft',\n",
              " 'roll',\n",
              " 'rot90',\n",
              " 'round',\n",
              " 'round_',\n",
              " 'rsqrt',\n",
              " 'rsqrt_',\n",
              " 'scatter',\n",
              " 'scatter_',\n",
              " 'scatter_add',\n",
              " 'scatter_add_',\n",
              " 'select',\n",
              " 'set_',\n",
              " 'shape',\n",
              " 'share_memory_',\n",
              " 'short',\n",
              " 'sigmoid',\n",
              " 'sigmoid_',\n",
              " 'sign',\n",
              " 'sign_',\n",
              " 'sin',\n",
              " 'sin_',\n",
              " 'sinh',\n",
              " 'sinh_',\n",
              " 'size',\n",
              " 'slogdet',\n",
              " 'smm',\n",
              " 'softmax',\n",
              " 'solve',\n",
              " 'sort',\n",
              " 'sparse_dim',\n",
              " 'sparse_mask',\n",
              " 'sparse_resize_',\n",
              " 'sparse_resize_and_clear_',\n",
              " 'split',\n",
              " 'split_with_sizes',\n",
              " 'sqrt',\n",
              " 'sqrt_',\n",
              " 'square',\n",
              " 'square_',\n",
              " 'squeeze',\n",
              " 'squeeze_',\n",
              " 'sspaddmm',\n",
              " 'std',\n",
              " 'stft',\n",
              " 'storage',\n",
              " 'storage_offset',\n",
              " 'storage_type',\n",
              " 'stride',\n",
              " 'sub',\n",
              " 'sub_',\n",
              " 'sum',\n",
              " 'sum_to_size',\n",
              " 'svd',\n",
              " 'symeig',\n",
              " 't',\n",
              " 't_',\n",
              " 'take',\n",
              " 'tan',\n",
              " 'tan_',\n",
              " 'tanh',\n",
              " 'tanh_',\n",
              " 'to',\n",
              " 'to_dense',\n",
              " 'to_mkldnn',\n",
              " 'to_sparse',\n",
              " 'tolist',\n",
              " 'topk',\n",
              " 'trace',\n",
              " 'transpose',\n",
              " 'transpose_',\n",
              " 'triangular_solve',\n",
              " 'tril',\n",
              " 'tril_',\n",
              " 'triu',\n",
              " 'triu_',\n",
              " 'true_divide',\n",
              " 'true_divide_',\n",
              " 'trunc',\n",
              " 'trunc_',\n",
              " 'type',\n",
              " 'type_as',\n",
              " 'unbind',\n",
              " 'unflatten',\n",
              " 'unfold',\n",
              " 'uniform_',\n",
              " 'unique',\n",
              " 'unique_consecutive',\n",
              " 'unsqueeze',\n",
              " 'unsqueeze_',\n",
              " 'values',\n",
              " 'var',\n",
              " 'view',\n",
              " 'view_as',\n",
              " 'where',\n",
              " 'zero_']"
            ]
          },
          "metadata": {
            "tags": []
          },
          "execution_count": 34
        }
      ]
    },
    {
      "cell_type": "code",
      "metadata": {
        "id": "cg0izYcN8LYh",
        "colab_type": "code",
        "colab": {
          "base_uri": "https://localhost:8080/",
          "height": 35
        },
        "outputId": "1b4202fc-4f8c-40a5-c121-055a3122fb90"
      },
      "source": [
        "z.grad_fn #grad_fn是一个AddBackward0类型的变量 AddBackward0这个类也是用Cpp来写的，但是我们从名字里就能够大概知道，他是加法(ADD)的反反向传播（Backward），看看里面有些什么东西"
      ],
      "execution_count": 35,
      "outputs": [
        {
          "output_type": "execute_result",
          "data": {
            "text/plain": [
              "<AddBackward0 at 0x7f4908e8aac8>"
            ]
          },
          "metadata": {
            "tags": []
          },
          "execution_count": 35
        }
      ]
    },
    {
      "cell_type": "code",
      "metadata": {
        "id": "ytzZ1J_i8UUi",
        "colab_type": "code",
        "colab": {
          "base_uri": "https://localhost:8080/",
          "height": 557
        },
        "outputId": "d8f4ea82-6771-4f97-9f9f-4834937c7bfe"
      },
      "source": [
        "dir(z.grad_fn) #next_functions就是grad_fn的精华"
      ],
      "execution_count": 36,
      "outputs": [
        {
          "output_type": "execute_result",
          "data": {
            "text/plain": [
              "['__call__',\n",
              " '__class__',\n",
              " '__delattr__',\n",
              " '__dir__',\n",
              " '__doc__',\n",
              " '__eq__',\n",
              " '__format__',\n",
              " '__ge__',\n",
              " '__getattribute__',\n",
              " '__gt__',\n",
              " '__hash__',\n",
              " '__init__',\n",
              " '__init_subclass__',\n",
              " '__le__',\n",
              " '__lt__',\n",
              " '__ne__',\n",
              " '__new__',\n",
              " '__reduce__',\n",
              " '__reduce_ex__',\n",
              " '__repr__',\n",
              " '__setattr__',\n",
              " '__sizeof__',\n",
              " '__str__',\n",
              " '__subclasshook__',\n",
              " '_register_hook_dict',\n",
              " 'metadata',\n",
              " 'name',\n",
              " 'next_functions',\n",
              " 'register_hook',\n",
              " 'requires_grad']"
            ]
          },
          "metadata": {
            "tags": []
          },
          "execution_count": 36
        }
      ]
    },
    {
      "cell_type": "code",
      "metadata": {
        "id": "Bdm05_yw8k5i",
        "colab_type": "code",
        "colab": {
          "base_uri": "https://localhost:8080/",
          "height": 35
        },
        "outputId": "746bff28-6b30-47c6-e712-ed847b397ddb"
      },
      "source": [
        "z.grad_fn.next_functions #next_functions是一个tuple of tuple of PowBackward0 and int。"
      ],
      "execution_count": 37,
      "outputs": [
        {
          "output_type": "execute_result",
          "data": {
            "text/plain": [
              "((<PowBackward0 at 0x7f4908e25b70>, 0), (<PowBackward0 at 0x7f4908e25a90>, 0))"
            ]
          },
          "metadata": {
            "tags": []
          },
          "execution_count": 37
        }
      ]
    },
    {
      "cell_type": "code",
      "metadata": {
        "id": "DhJwIGZl8rkT",
        "colab_type": "code",
        "colab": {
          "base_uri": "https://localhost:8080/",
          "height": 557
        },
        "outputId": "bc32df94-ce74-4c5f-84fc-5efa8540eec3"
      },
      "source": [
        "xg = z.grad_fn.next_functions[0][0] #继续深挖\n",
        "dir(xg)"
      ],
      "execution_count": 38,
      "outputs": [
        {
          "output_type": "execute_result",
          "data": {
            "text/plain": [
              "['__call__',\n",
              " '__class__',\n",
              " '__delattr__',\n",
              " '__dir__',\n",
              " '__doc__',\n",
              " '__eq__',\n",
              " '__format__',\n",
              " '__ge__',\n",
              " '__getattribute__',\n",
              " '__gt__',\n",
              " '__hash__',\n",
              " '__init__',\n",
              " '__init_subclass__',\n",
              " '__le__',\n",
              " '__lt__',\n",
              " '__ne__',\n",
              " '__new__',\n",
              " '__reduce__',\n",
              " '__reduce_ex__',\n",
              " '__repr__',\n",
              " '__setattr__',\n",
              " '__sizeof__',\n",
              " '__str__',\n",
              " '__subclasshook__',\n",
              " '_register_hook_dict',\n",
              " 'metadata',\n",
              " 'name',\n",
              " 'next_functions',\n",
              " 'register_hook',\n",
              " 'requires_grad']"
            ]
          },
          "metadata": {
            "tags": []
          },
          "execution_count": 38
        }
      ]
    },
    {
      "cell_type": "code",
      "metadata": {
        "id": "RFQEbefX88Nq",
        "colab_type": "code",
        "colab": {
          "base_uri": "https://localhost:8080/",
          "height": 35
        },
        "outputId": "c67eacd2-2826-40d6-d8b5-de77ba1ef374"
      },
      "source": [
        "x_leaf=xg.next_functions[0][0] #在PyTorch的反向图计算中，AccumulateGrad类型代表的就是叶子节点类型，也就是计算图终止节点。AccumulateGrad类中有一个.variable属性指向叶子节点。\n",
        "type(x_leaf)"
      ],
      "execution_count": 39,
      "outputs": [
        {
          "output_type": "execute_result",
          "data": {
            "text/plain": [
              "AccumulateGrad"
            ]
          },
          "metadata": {
            "tags": []
          },
          "execution_count": 39
        }
      ]
    },
    {
      "cell_type": "code",
      "metadata": {
        "id": "6fnvQMVd9C3I",
        "colab_type": "code",
        "colab": {
          "base_uri": "https://localhost:8080/",
          "height": 107
        },
        "outputId": "3f885c64-f556-4db7-d46d-50a1b272fc18"
      },
      "source": [
        "x_leaf.variable #这个.variable的属性就是我们的生成的变量x"
      ],
      "execution_count": 40,
      "outputs": [
        {
          "output_type": "execute_result",
          "data": {
            "text/plain": [
              "tensor([[0.7499, 0.6541, 0.4219, 0.7922, 0.5952],\n",
              "        [0.2636, 0.3943, 0.6409, 0.4133, 0.1725],\n",
              "        [0.7042, 0.5365, 0.9469, 0.8203, 0.5459],\n",
              "        [0.5027, 0.4391, 0.1101, 0.0475, 0.0211],\n",
              "        [0.3626, 0.2498, 0.4869, 0.2054, 0.8163]], requires_grad=True)"
            ]
          },
          "metadata": {
            "tags": []
          },
          "execution_count": 40
        }
      ]
    },
    {
      "cell_type": "code",
      "metadata": {
        "id": "hiRJUKt89IFJ",
        "colab_type": "code",
        "colab": {
          "base_uri": "https://localhost:8080/",
          "height": 53
        },
        "outputId": "92e83125-d74d-458d-a620-aca3e3677850"
      },
      "source": [
        "print(\"x_leaf.variable的id:\"+str(id(x_leaf.variable)))\n",
        "print(\"x的id:\"+str(id(x)))"
      ],
      "execution_count": 41,
      "outputs": [
        {
          "output_type": "stream",
          "text": [
            "x_leaf.variable的id:139951658658696\n",
            "x的id:139951658658696\n"
          ],
          "name": "stdout"
        }
      ]
    },
    {
      "cell_type": "code",
      "metadata": {
        "id": "XVNJlcGC9N3I",
        "colab_type": "code",
        "colab": {}
      },
      "source": [
        "assert(id(x_leaf.variable)==id(x))"
      ],
      "execution_count": 42,
      "outputs": []
    },
    {
      "cell_type": "code",
      "metadata": {
        "id": "mF_aj6Yx9Qou",
        "colab_type": "code",
        "colab": {
          "base_uri": "https://localhost:8080/",
          "height": 71
        },
        "outputId": "d4fe5702-9ed6-4b1d-bf0b-0e66ab0a321a"
      },
      "source": [
        "# 引用\n",
        "# 注意，这里我们使用了一个新库叫 seaborn 如果报错找不到包的话请使用pip install seaborn 来进行安装\n",
        "import torch\n",
        "from torch.nn import Linear, Module, MSELoss\n",
        "from torch.optim import SGD\n",
        "import numpy as np\n",
        "import pandas as pd\n",
        "import matplotlib\n",
        "import matplotlib.pyplot as plt\n",
        "import seaborn as sns\n",
        "torch.__version__"
      ],
      "execution_count": 1,
      "outputs": [
        {
          "output_type": "stream",
          "text": [
            "/usr/local/lib/python3.6/dist-packages/statsmodels/tools/_testing.py:19: FutureWarning: pandas.util.testing is deprecated. Use the functions in the public API at pandas.testing instead.\n",
            "  import pandas.util.testing as tm\n"
          ],
          "name": "stderr"
        },
        {
          "output_type": "execute_result",
          "data": {
            "application/vnd.google.colaboratory.intrinsic": {
              "type": "string"
            },
            "text/plain": [
              "'1.5.1+cu101'"
            ]
          },
          "metadata": {
            "tags": []
          },
          "execution_count": 1
        }
      ]
    },
    {
      "cell_type": "code",
      "metadata": {
        "id": "38wPNJp4-sUo",
        "colab_type": "code",
        "colab": {
          "base_uri": "https://localhost:8080/",
          "height": 283
        },
        "outputId": "92c6f71f-d893-4e14-dd83-2693d0e4fb7e"
      },
      "source": [
        "x = np.linspace(0,20,500)\n",
        "y = 5*x + 7\n",
        "plt.plot(x,y)\n"
      ],
      "execution_count": 2,
      "outputs": [
        {
          "output_type": "execute_result",
          "data": {
            "text/plain": [
              "[<matplotlib.lines.Line2D at 0x7f089afb1630>]"
            ]
          },
          "metadata": {
            "tags": []
          },
          "execution_count": 2
        },
        {
          "output_type": "display_data",
          "data": {
            "image/png": "[encoded data removed]",
            "text/plain": [
              "<Figure size 432x288 with 1 Axes>"
            ]
          },
          "metadata": {
            "tags": [],
            "needs_background": "light"
          }
        }
      ]
    },
    {
      "cell_type": "code",
      "metadata": {
        "id": "2zmlo7fziQcf",
        "colab_type": "code",
        "colab": {}
      },
      "source": [
        "x = np.random.rand(256)\n",
        "noise = np.random.randn(256) / 4\n",
        "y = x * 5 + 7 + noise\n",
        "df = pd.DataFrame()\n",
        "df['x'] = x\n",
        "df['y'] = y"
      ],
      "execution_count": 3,
      "outputs": []
    },
    {
      "cell_type": "code",
      "metadata": {
        "id": "_zeUogPiiURt",
        "colab_type": "code",
        "colab": {
          "base_uri": "https://localhost:8080/",
          "height": 369
        },
        "outputId": "ecd52ee2-6669-4e91-e9ae-6effd8081100"
      },
      "source": [
        "sns.lmplot(x='x', y='y', data=df);"
      ],
      "execution_count": 4,
      "outputs": [
        {
          "output_type": "display_data",
          "data": {
            "image/png": "[encoded data removed]",
            "text/plain": [
              "<Figure size 360x360 with 1 Axes>"
            ]
          },
          "metadata": {
            "tags": [],
            "needs_background": "light"
          }
        }
      ]
    },
    {
      "cell_type": "code",
      "metadata": {
        "id": "e0qHfmA_iV9K",
        "colab_type": "code",
        "colab": {}
      },
      "source": [
        "model=Linear(1, 1)"
      ],
      "execution_count": 5,
      "outputs": []
    },
    {
      "cell_type": "code",
      "metadata": {
        "id": "A2Tk-yiDmUjT",
        "colab_type": "code",
        "colab": {}
      },
      "source": [
        "criterion = MSELoss()"
      ],
      "execution_count": 6,
      "outputs": []
    },
    {
      "cell_type": "code",
      "metadata": {
        "id": "XfGbCUFRmWpC",
        "colab_type": "code",
        "colab": {}
      },
      "source": [
        "optim = SGD(model.parameters(), lr = 0.01)"
      ],
      "execution_count": 7,
      "outputs": []
    },
    {
      "cell_type": "code",
      "metadata": {
        "id": "SXYBh63ymZP5",
        "colab_type": "code",
        "colab": {}
      },
      "source": [
        "epochs = 3000"
      ],
      "execution_count": 8,
      "outputs": []
    },
    {
      "cell_type": "code",
      "metadata": {
        "id": "clyc_7_fmbE0",
        "colab_type": "code",
        "colab": {}
      },
      "source": [
        "x_train = x.reshape(-1, 1).astype('float32')\n",
        "y_train = y.reshape(-1, 1).astype('float32')"
      ],
      "execution_count": 9,
      "outputs": []
    },
    {
      "cell_type": "code",
      "metadata": {
        "id": "zI7lhaOomeoI",
        "colab_type": "code",
        "colab": {
          "base_uri": "https://localhost:8080/",
          "height": 557
        },
        "outputId": "a38f828f-74c9-4e7a-c900-4fed1eaf07db"
      },
      "source": [
        "for i in range(epochs):\n",
        "    # 整理输入和输出的数据，这里输入和输出一定要是torch的Tensor类型\n",
        "    inputs = torch.from_numpy(x_train)\n",
        "    labels = torch.from_numpy(y_train)\n",
        "    #使用模型进行预测\n",
        "    outputs = model(inputs)\n",
        "    #梯度置0，否则会累加\n",
        "    optim.zero_grad()\n",
        "    # 计算损失\n",
        "    loss = criterion(outputs, labels)\n",
        "    # 反向传播\n",
        "    loss.backward()\n",
        "    # 使用优化器默认方法优化\n",
        "    optim.step()\n",
        "    if (i%100==0):\n",
        "        #每 100次打印一下损失函数，看看效果\n",
        "        print('epoch {}, loss {:1.4f}'.format(i,loss.data.item()))   "
      ],
      "execution_count": 10,
      "outputs": [
        {
          "output_type": "stream",
          "text": [
            "epoch 0, loss 101.6562\n",
            "epoch 100, loss 0.8251\n",
            "epoch 200, loss 0.1773\n",
            "epoch 300, loss 0.1463\n",
            "epoch 400, loss 0.1256\n",
            "epoch 500, loss 0.1097\n",
            "epoch 600, loss 0.0977\n",
            "epoch 700, loss 0.0885\n",
            "epoch 800, loss 0.0815\n",
            "epoch 900, loss 0.0761\n",
            "epoch 1000, loss 0.0720\n",
            "epoch 1100, loss 0.0689\n",
            "epoch 1200, loss 0.0665\n",
            "epoch 1300, loss 0.0647\n",
            "epoch 1400, loss 0.0633\n",
            "epoch 1500, loss 0.0623\n",
            "epoch 1600, loss 0.0615\n",
            "epoch 1700, loss 0.0609\n",
            "epoch 1800, loss 0.0604\n",
            "epoch 1900, loss 0.0600\n",
            "epoch 2000, loss 0.0598\n",
            "epoch 2100, loss 0.0596\n",
            "epoch 2200, loss 0.0594\n",
            "epoch 2300, loss 0.0593\n",
            "epoch 2400, loss 0.0592\n",
            "epoch 2500, loss 0.0591\n",
            "epoch 2600, loss 0.0591\n",
            "epoch 2700, loss 0.0590\n",
            "epoch 2800, loss 0.0590\n",
            "epoch 2900, loss 0.0590\n"
          ],
          "name": "stdout"
        }
      ]
    },
    {
      "cell_type": "code",
      "metadata": {
        "id": "xYlIKB-Rml6c",
        "colab_type": "code",
        "colab": {
          "base_uri": "https://localhost:8080/",
          "height": 35
        },
        "outputId": "7bc33a1b-75ac-416c-ba9a-0512f4c51545"
      },
      "source": [
        "[w, b] = model.parameters()\n",
        "print (w.item(),b.item())"
      ],
      "execution_count": 11,
      "outputs": [
        {
          "output_type": "stream",
          "text": [
            "4.897557258605957 7.046131134033203\n"
          ],
          "name": "stdout"
        }
      ]
    },
    {
      "cell_type": "code",
      "metadata": {
        "id": "pxds2Vjvmqq0",
        "colab_type": "code",
        "colab": {
          "base_uri": "https://localhost:8080/",
          "height": 265
        },
        "outputId": "f622c0cf-56b6-40e7-bab3-757306f6d72f"
      },
      "source": [
        "predicted = model.forward(torch.from_numpy(x_train)).data.numpy()\n",
        "plt.plot(x_train, y_train, 'go', label = 'data', alpha = 0.3)\n",
        "plt.plot(x_train, predicted, label = 'predicted', alpha = 1)\n",
        "plt.legend()\n",
        "plt.show()"
      ],
      "execution_count": 12,
      "outputs": [
        {
          "output_type": "display_data",
          "data": {
            "image/png": "[encoded data removed]",
            "text/plain": [
              "<Figure size 432x288 with 1 Axes>"
            ]
          },
          "metadata": {
            "tags": [],
            "needs_background": "light"
          }
        }
      ]
    },
    {
      "cell_type": "code",
      "metadata": {
        "id": "BfN9zbpFmuFi",
        "colab_type": "code",
        "colab": {}
      },
      "source": [
        ""
      ],
      "execution_count": null,
      "outputs": []
    }
  ]
}